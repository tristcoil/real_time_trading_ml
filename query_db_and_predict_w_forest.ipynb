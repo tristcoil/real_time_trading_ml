{
 "cells": [
  {
   "cell_type": "code",
   "execution_count": null,
   "id": "e83e8916",
   "metadata": {},
   "outputs": [],
   "source": [
    "# useful article about OHLC data aggregation:\n",
    "# applicable to websocket streams of tick by tick data\n",
    "# https://blog.quantinsti.com/tick-tick-ohlc-data-pandas-tutorial/\n"
   ]
  },
  {
   "cell_type": "code",
   "execution_count": null,
   "id": "8a08f318",
   "metadata": {},
   "outputs": [],
   "source": [
    "# jupyter did not want to load already installed talib library \n",
    "# so had to reinstall it via anaconda as well \n",
    "#!conda install -c conda-forge ta-lib\n",
    "import talib as ta\n",
    "import yfinance as yf\n",
    "import pandas as pd\n",
    "import sqlite3"
   ]
  },
  {
   "cell_type": "code",
   "execution_count": null,
   "id": "93a8d087",
   "metadata": {
    "scrolled": true
   },
   "outputs": [],
   "source": [
    "# custom function imports\n",
    "from functions_gen import *        # general functions\n",
    "from functions_ml import *         # machine learning\n",
    "from functions_viz import *        # visualization\n",
    "from functions_db import *         # database\n",
    "\n",
    "# custom indicators moved to modules\n",
    "from functions_superjump import *\n",
    "from functions_HHLL import *\n",
    "from functions_HHLL_conf import *\n",
    "from functions_HHLL_channel import *\n",
    "from functions_gator import *\n",
    "\n",
    "# Random Forest specific functions\n",
    "from functions_forest import *"
   ]
  },
  {
   "cell_type": "code",
   "execution_count": null,
   "id": "92f6fbd6",
   "metadata": {},
   "outputs": [],
   "source": [
    "from configparser import ConfigParser"
   ]
  },
  {
   "cell_type": "code",
   "execution_count": null,
   "id": "f37d1af6",
   "metadata": {},
   "outputs": [],
   "source": [
    "config = ConfigParser()\n",
    "config.read(\"config.ini\")\n",
    "API_KEY = config.get(\"alpaca\", \"API_KEY\")\n",
    "SECRET_KEY = config.get(\"alpaca\", \"SECRET_KEY\")\n",
    "\n",
    "print(f\"API_KEY:    \", API_KEY)\n",
    "print(f\"SECRET_KEY: \", SECRET_KEY)"
   ]
  },
  {
   "cell_type": "code",
   "execution_count": null,
   "id": "32fdaf1e",
   "metadata": {},
   "outputs": [],
   "source": [
    "# sqlite database structure is following:\n",
    "#\n",
    "#sqlite> .header on\n",
    "#sqlite> .mode column\n",
    "#sqlite> select * from alpaca_websocket_stream_data LIMIT 10;\n",
    "#timestamp                            symbol  price   size  exchange  conditions  tape  id   \n",
    "#-----------------------------------  ------  ------  ----  --------  ----------  ----  -----\n",
    "#2022-07-19 15:49:25.477387108-04:00  AAPL    150.8   100   V         ['@']       C     10807\n",
    "#32022-07-19 15:49:27.252579851-04:00  AAPL    150.81  3     V         ['@', 'I']  C     10808\n",
    "#2022-07-19 15:49:27.252579851-04:00  AAPL    150.81  100   V         ['@']       C     10809\n",
    "#2022-07-19 15:49:27.666163652-04:00  AAPL    150.81  100   V         ['@']       C     10810\n",
    "#2022-07-19 15:49:27.666164795-04:00  AAPL    150.81  200   V         ['@']       C     10811\n",
    "#2022-07-19 15:49:29.248316808-04:00  AAPL    150.79  100   V         ['@']       C     10812\n",
    "#2022-07-19 15:49:32.963910211-04:00  AAPL    150.78  35    V         ['@', 'I']  C     10813\n",
    "#2022-07-19 15:49:36.611092454-04:00  AAPL    150.77  2     V         ['@', 'I']  C     10814\n",
    "#2022-07-19 15:49:36.612940345-04:00  AAPL    150.77  100   V         ['@']       C     10815\n",
    "#2022-07-19 15:49:37.083678369-04:00  AAPL    150.76  100   V         ['@']       C     10816\n",
    "#sqlite> \n",
    "\n",
    "\n",
    "\n"
   ]
  },
  {
   "cell_type": "code",
   "execution_count": null,
   "id": "b41c98bf",
   "metadata": {},
   "outputs": [],
   "source": []
  },
  {
   "cell_type": "markdown",
   "id": "bd0e6607",
   "metadata": {},
   "source": [
    "# Exploratory data wrangling\n",
    "Optionally uncomment the code to get insights to individual steps.\n",
    "Can be useful for db troubleshooting later"
   ]
  },
  {
   "cell_type": "code",
   "execution_count": null,
   "id": "52d55404",
   "metadata": {},
   "outputs": [],
   "source": [
    "# connect to sqlite database and get all data where symbol is AAPL\n",
    "# symbol is external variable\n",
    "# pandas to onnect to database and aggregate price data to 1 minute granularity in pandas\n",
    "\n",
    "#symbol='AAPL'\n",
    "#\n",
    "#conn = sqlite3.connect(\"alpaca_websocket_stream_data.db\")\n",
    "#c = conn.cursor()\n",
    "#c.execute(\"SELECT * FROM alpaca_websocket_stream_data WHERE symbol = ?\", (symbol,))\n",
    "#data = c.fetchall()\n",
    "#conn.close()"
   ]
  },
  {
   "cell_type": "code",
   "execution_count": null,
   "id": "523ebbe1",
   "metadata": {},
   "outputs": [],
   "source": [
    "#data"
   ]
  },
  {
   "cell_type": "code",
   "execution_count": null,
   "id": "7b110aeb",
   "metadata": {},
   "outputs": [],
   "source": [
    "# LOAD ONE DAY BACK\n",
    "\n",
    "# connect to sqlite database and get all data where symbol is AAPL\n",
    "# timestamp is from 24 hours ago to now\n",
    "#conn = sqlite3.connect(\"alpaca_websocket_stream_data.db\")\n",
    "#c = conn.cursor()\n",
    "#c.execute(\"SELECT * FROM alpaca_websocket_stream_data WHERE symbol = 'AAPL' AND timestamp BETWEEN datetime('now', '-1 month') AND datetime('now')\")\n",
    "#data = c.fetchall()\n",
    "#conn.close()"
   ]
  },
  {
   "cell_type": "code",
   "execution_count": null,
   "id": "fc680fe9",
   "metadata": {},
   "outputs": [],
   "source": [
    "#data"
   ]
  },
  {
   "cell_type": "code",
   "execution_count": null,
   "id": "c6a5b63c",
   "metadata": {},
   "outputs": [],
   "source": [
    "# load data to dataframe\n",
    "#df = pd.DataFrame(data, columns=[\"timestamp\", \"symbol\", \"price\", \"size\", \"exchange\", \"conditions\", \"tape\", \"id\"])"
   ]
  },
  {
   "cell_type": "code",
   "execution_count": null,
   "id": "8fa99c08",
   "metadata": {
    "scrolled": true
   },
   "outputs": [],
   "source": [
    "#df"
   ]
  },
  {
   "cell_type": "code",
   "execution_count": null,
   "id": "b0747b8e",
   "metadata": {},
   "outputs": [],
   "source": [
    "#df[\"timestamp\"] = pd.to_datetime(df[\"timestamp\"], unit=\"ns\")"
   ]
  },
  {
   "cell_type": "code",
   "execution_count": null,
   "id": "7cfcf543",
   "metadata": {},
   "outputs": [],
   "source": [
    "#df[\"date\"] = df[\"timestamp\"].dt.date"
   ]
  },
  {
   "cell_type": "code",
   "execution_count": null,
   "id": "b17ff698",
   "metadata": {
    "scrolled": false
   },
   "outputs": [],
   "source": [
    "#df"
   ]
  },
  {
   "cell_type": "code",
   "execution_count": null,
   "id": "4441123b",
   "metadata": {},
   "outputs": [],
   "source": [
    "#df = df.set_index(\"timestamp\")\n"
   ]
  },
  {
   "cell_type": "code",
   "execution_count": null,
   "id": "73187d24",
   "metadata": {},
   "outputs": [],
   "source": [
    "#df_resampled = df['price'].resample(\"1Min\").ohlc(_method='ohlc')"
   ]
  },
  {
   "cell_type": "code",
   "execution_count": null,
   "id": "e1da707c",
   "metadata": {},
   "outputs": [],
   "source": [
    "#df_resampled"
   ]
  },
  {
   "cell_type": "code",
   "execution_count": null,
   "id": "a050d1df",
   "metadata": {},
   "outputs": [],
   "source": [
    "#df = df.reset_index()\n",
    "#df = df.sort_values(by=[\"symbol\"])"
   ]
  },
  {
   "cell_type": "markdown",
   "id": "dc43c528",
   "metadata": {},
   "source": [
    "## Get data from Alpaca (historical, not socket stream)"
   ]
  },
  {
   "cell_type": "code",
   "execution_count": null,
   "id": "7c0e8c48",
   "metadata": {},
   "outputs": [],
   "source": [
    "get_alpaca_hist_data(\"BTCUSD\", \"crypto\", API_KEY, SECRET_KEY)"
   ]
  },
  {
   "cell_type": "code",
   "execution_count": null,
   "id": "3094e5ac",
   "metadata": {},
   "outputs": [],
   "source": []
  },
  {
   "cell_type": "code",
   "execution_count": null,
   "id": "06528970",
   "metadata": {},
   "outputs": [],
   "source": [
    "get_alpaca_hist_data(\"AAPL\", \"stocks\", API_KEY, SECRET_KEY)"
   ]
  },
  {
   "cell_type": "code",
   "execution_count": null,
   "id": "524c7f2c",
   "metadata": {},
   "outputs": [],
   "source": []
  },
  {
   "cell_type": "code",
   "execution_count": null,
   "id": "1c6ec1af",
   "metadata": {},
   "outputs": [],
   "source": []
  },
  {
   "cell_type": "markdown",
   "id": "e3f747bd",
   "metadata": {},
   "source": [
    "# Making function flow\n",
    "one function for getting the data for specific ticker from the database\n",
    "another function to process the df into resampled df with 1 and 5 min granularity"
   ]
  },
  {
   "cell_type": "code",
   "execution_count": null,
   "id": "e0d7c25f",
   "metadata": {},
   "outputs": [],
   "source": [
    "symbol = 'AAPL'\n",
    "db_name = 'alpaca_websocket_stream_data.db'\n",
    "table_name= 'alpaca_websocket_stream_data'\n",
    "granularity = '1Min'\n",
    "interval = \"1m\"  # for yahoo finance model training if needed "
   ]
  },
  {
   "cell_type": "code",
   "execution_count": null,
   "id": "73369eda",
   "metadata": {},
   "outputs": [],
   "source": [
    "# gets data only for last n days for given ticker\n",
    "#data =  get_ticker_data_from_db_days_back(symbol, db_name, table_name)"
   ]
  },
  {
   "cell_type": "code",
   "execution_count": null,
   "id": "14f31de3",
   "metadata": {
    "scrolled": true
   },
   "outputs": [],
   "source": [
    "#data"
   ]
  },
  {
   "cell_type": "code",
   "execution_count": null,
   "id": "ba7164bb",
   "metadata": {},
   "outputs": [],
   "source": []
  },
  {
   "cell_type": "code",
   "execution_count": null,
   "id": "9354be9a",
   "metadata": {},
   "outputs": [],
   "source": [
    "# gets all data from db for given ticker\n",
    "data =  get_ticker_data_from_db(symbol, db_name, table_name)"
   ]
  },
  {
   "cell_type": "code",
   "execution_count": null,
   "id": "9d65a000",
   "metadata": {},
   "outputs": [],
   "source": []
  },
  {
   "cell_type": "code",
   "execution_count": null,
   "id": "8e0eaa03",
   "metadata": {},
   "outputs": [],
   "source": [
    "data"
   ]
  },
  {
   "cell_type": "code",
   "execution_count": null,
   "id": "77ef4f8c",
   "metadata": {},
   "outputs": [],
   "source": []
  },
  {
   "cell_type": "code",
   "execution_count": null,
   "id": "8a436ca6",
   "metadata": {},
   "outputs": [],
   "source": [
    "# resample tick by tick data from db to minute timeframe and save to df\n",
    "df_db =  resample_data(data, granularity=granularity)"
   ]
  },
  {
   "cell_type": "code",
   "execution_count": null,
   "id": "74c81534",
   "metadata": {},
   "outputs": [],
   "source": []
  },
  {
   "cell_type": "code",
   "execution_count": null,
   "id": "3f2dceb7",
   "metadata": {},
   "outputs": [],
   "source": [
    "df_db"
   ]
  },
  {
   "cell_type": "code",
   "execution_count": null,
   "id": "ee7412f8",
   "metadata": {},
   "outputs": [],
   "source": []
  },
  {
   "cell_type": "markdown",
   "id": "de15f2dc",
   "metadata": {},
   "source": [
    "## Model training (Random Forest)"
   ]
  },
  {
   "cell_type": "code",
   "execution_count": null,
   "id": "896ddb45",
   "metadata": {},
   "outputs": [],
   "source": [
    "# not needed so far, we can import pretrained model"
   ]
  },
  {
   "cell_type": "code",
   "execution_count": null,
   "id": "5267ffbf",
   "metadata": {},
   "outputs": [],
   "source": [
    "# but best to allow for training here as well"
   ]
  },
  {
   "cell_type": "code",
   "execution_count": null,
   "id": "944f484f",
   "metadata": {},
   "outputs": [],
   "source": [
    "def training_sequence(tickers, interval=\"1m\", model_name=\"./random_forest.joblib\"):\n",
    "    # initiates training sequence for random forest classifier\n",
    "\n",
    "    for ticker in tickers:\n",
    "        print('ticker: ', ticker)\n",
    "        df = get_data(ticker, interval)\n",
    "        plot_train_data(df, ticker)\n",
    "\n",
    "\n",
    "        #print(df)\n",
    "\n",
    "        # custom indicator extension:\n",
    "        # create extra features from new indicators into new dfs\n",
    "        # and then join the dfs based on minute datetime with original df\n",
    "        # our model also needs 1/0 instead of True/False\n",
    "        # thrend_conf col needs conversion from 'u','d' to 1,0\n",
    "        out_df1 = superjumpTBB(df)      # superjumpTBB\n",
    "        out_df1.replace({False: 0, True: 1}, inplace=True)\n",
    "\n",
    "        out_df2 = HHLL_Strategy(df)  # HHHL indicator\n",
    "        out_df2.replace({False: 0, True: 1}, inplace=True)\n",
    "\n",
    "        out_df3 = HHLL_confirmation(df)  # HHHL indicator\n",
    "        out_df3.replace({'d': 0, 'u': 1, 'none': -1}, inplace=True)\n",
    "\n",
    "        out_df4 = HHLL_Channel(df)\n",
    "        \n",
    "        out_df5 = rsi_strategy(df) # RSI gator indicator\n",
    "\n",
    "\n",
    "        df = compute_technical_indicators(df)\n",
    "        df = compute_features(df)\n",
    "        df = define_target_condition(df)\n",
    "\n",
    "        # TODO, verify that inner join is what we really need\n",
    "        # merging with new dataframes with custom indicators\n",
    "        df = pd.merge(df, out_df1, how='inner', on='Date')\n",
    "        df = pd.merge(df, out_df2, how='inner', on='Date')\n",
    "        df = pd.merge(df, out_df3, how='inner', on='Date')\n",
    "        df = pd.merge(df, out_df4, how='inner', on='Date')\n",
    "        df = pd.merge(df, out_df5, how='inner', on='Date')\n",
    "\n",
    "        #print('regular df')\n",
    "        #print(df)\n",
    "\n",
    "        clf = splitting_and_training(df)\n",
    "\n",
    "        save_model(clf, model_name)\n",
    "        \n",
    "        # commenting out saves time during training\n",
    "        #df = predict_timeseries(df, clf)\n",
    "        #plot_stock_prediction(df, ticker)\n",
    "\n",
    "    return None"
   ]
  },
  {
   "cell_type": "code",
   "execution_count": null,
   "id": "68cb02dc",
   "metadata": {},
   "outputs": [],
   "source": [
    "# training stock data\n",
    "tickers = ['SPY', 'F', 'IBM', 'GE', 'AAPL', 'ADM'] "
   ]
  },
  {
   "cell_type": "code",
   "execution_count": null,
   "id": "e0483214",
   "metadata": {},
   "outputs": [],
   "source": [
    "training_sequence(tickers, interval=\"1m\", model_name=\"./random_forest.joblib\")"
   ]
  },
  {
   "cell_type": "markdown",
   "id": "30a92a12",
   "metadata": {},
   "source": [
    "## Feature importance visualization \n",
    "(Random Forest only)"
   ]
  },
  {
   "cell_type": "code",
   "execution_count": null,
   "id": "336e913c",
   "metadata": {},
   "outputs": [],
   "source": [
    "# load classifier, no need to initialize the loaded_rf\n",
    "clf = joblib.load(\"./random_forest.joblib\")"
   ]
  },
  {
   "cell_type": "code",
   "execution_count": null,
   "id": "576b8d02",
   "metadata": {},
   "outputs": [],
   "source": [
    "predictors_list = ['aboveSAR','aboveUpperBB','belowLowerBB','RSI','oversoldRSI','overboughtRSI',\n",
    "                   'aboveEMA5','aboveEMA10','aboveEMA15','aboveEMA20','aboveEMA30','aboveEMA40','aboveEMA50',\n",
    "                   'aboveEMA60','aboveEMA70','aboveEMA80','aboveEMA90',\n",
    "                   'aboveEMA100','aboveEMA200',\n",
    "                   'LongSig','ShortSig','WLongSig','WShortSig',\n",
    "                   'HH','LL','HL','LH',\n",
    "                   'trend_conf','HHLL_channel_sig','rsi_gator_sig'\n",
    "                  ]"
   ]
  },
  {
   "cell_type": "code",
   "execution_count": null,
   "id": "6d5110d5",
   "metadata": {},
   "outputs": [],
   "source": [
    "plot_forest_feature_importances(clf, predictors_list)"
   ]
  },
  {
   "cell_type": "code",
   "execution_count": null,
   "id": "d2ca8712",
   "metadata": {},
   "outputs": [],
   "source": []
  },
  {
   "cell_type": "code",
   "execution_count": null,
   "id": "f97fac6a",
   "metadata": {},
   "outputs": [],
   "source": []
  },
  {
   "cell_type": "markdown",
   "id": "4fff5e0f",
   "metadata": {},
   "source": [
    "# Predictions\n",
    "- now we have dataframe and can compute whatever indicators we want\n",
    "- and then connect it to our predictive model and even visualize in streamlit"
   ]
  },
  {
   "cell_type": "code",
   "execution_count": null,
   "id": "a1a3711e",
   "metadata": {},
   "outputs": [],
   "source": [
    "# load classifier, no need to initialize the loaded_rf\n",
    "clf = joblib.load(\"./random_forest.joblib\")"
   ]
  },
  {
   "cell_type": "code",
   "execution_count": null,
   "id": "54bd75fb",
   "metadata": {},
   "outputs": [],
   "source": [
    "# this is dataframe from db\n",
    "df_db.tail(2)"
   ]
  },
  {
   "cell_type": "markdown",
   "id": "8eabcedd",
   "metadata": {},
   "source": [
    "#### Temporary workaround - Yahoo\n",
    "Due to issue with custom indicators interacting with db data, we will take 1 minute data from yahoo for now."
   ]
  },
  {
   "cell_type": "code",
   "execution_count": null,
   "id": "4bf4f38e",
   "metadata": {},
   "outputs": [],
   "source": [
    "# temp workaround since some indicator failing\n",
    "# they might be failing maybe because some NaN values in our df from database\n",
    "# need to investigate in detail\n",
    "df = get_data(symbol, interval)"
   ]
  },
  {
   "cell_type": "code",
   "execution_count": null,
   "id": "bc3b3648",
   "metadata": {},
   "outputs": [],
   "source": []
  },
  {
   "cell_type": "markdown",
   "id": "ece22dcc",
   "metadata": {},
   "source": [
    "#### Temporary workaround - Alpaca\n",
    "Alternatively we can get historical data from Alpaca."
   ]
  },
  {
   "cell_type": "code",
   "execution_count": null,
   "id": "6a393f7c",
   "metadata": {},
   "outputs": [],
   "source": [
    "df = get_alpaca_hist_data(\"BTCUSD\", \"crypto\", API_KEY, SECRET_KEY)    # crypto\n",
    "#df = get_alpaca_hist_data(\"AAPL\", \"stocks\", API_KEY, SECRET_KEY)    # stocks 15 mins delayed with free API"
   ]
  },
  {
   "cell_type": "code",
   "execution_count": null,
   "id": "fb9a5024",
   "metadata": {},
   "outputs": [],
   "source": [
    "#pd.to_datetime(df['Date'])"
   ]
  },
  {
   "cell_type": "code",
   "execution_count": null,
   "id": "0afa4191",
   "metadata": {},
   "outputs": [],
   "source": []
  },
  {
   "cell_type": "code",
   "execution_count": null,
   "id": "8a4170b2",
   "metadata": {},
   "outputs": [],
   "source": [
    "df"
   ]
  },
  {
   "cell_type": "code",
   "execution_count": null,
   "id": "c340229e",
   "metadata": {},
   "outputs": [],
   "source": []
  },
  {
   "cell_type": "code",
   "execution_count": null,
   "id": "31bbe373",
   "metadata": {},
   "outputs": [],
   "source": [
    "df.tail(2)"
   ]
  },
  {
   "cell_type": "code",
   "execution_count": null,
   "id": "28266281",
   "metadata": {},
   "outputs": [],
   "source": [
    "# --- plot whole dataframe ---\n",
    "#df[['Open','High','Low','Close', 'EMA20']].plot()\n",
    "df[['Open','High','Low','Close']].plot()"
   ]
  },
  {
   "cell_type": "code",
   "execution_count": null,
   "id": "6c58b617",
   "metadata": {},
   "outputs": [],
   "source": [
    "# --- plot tail of the dataframe ---\n",
    "#df[['Open','High','Low','Close']].iloc[-20:].plot()"
   ]
  },
  {
   "cell_type": "code",
   "execution_count": null,
   "id": "0b07a5b1",
   "metadata": {},
   "outputs": [],
   "source": []
  },
  {
   "cell_type": "code",
   "execution_count": null,
   "id": "8d48695d",
   "metadata": {},
   "outputs": [],
   "source": [
    "# we take df that was taken from db and resampled to minute granularity (1min, 5min)\n",
    "# and we will compute various indicators for it\n",
    "# including custom indicators"
   ]
  },
  {
   "cell_type": "code",
   "execution_count": null,
   "id": "6d420e43",
   "metadata": {},
   "outputs": [],
   "source": []
  },
  {
   "cell_type": "code",
   "execution_count": null,
   "id": "d3c0365a",
   "metadata": {},
   "outputs": [],
   "source": [
    "# prepare dfs with extra indicators\n",
    "out_df1 = superjumpTBB(df)      # superjumpTBB\n",
    "out_df1.replace({False: 0, True: 1}, inplace=True)\n",
    "\n",
    "out_df2 = HHLL_Strategy(df)  # HHHL indicator\n",
    "out_df2.replace({False: 0, True: 1}, inplace=True)\n",
    "\n",
    "out_df3 = HHLL_confirmation(df)  # HHLL confirmation\n",
    "# converting 'u','d', 'none' to integers for 'trend_conf' col\n",
    "out_df3.replace({'d': 0, 'u': 1, 'none': -1}, inplace=True)\n",
    "\n",
    "out_df4 = HHLL_Channel(df)\n",
    "\n",
    "out_df5 = rsi_strategy(df)"
   ]
  },
  {
   "cell_type": "code",
   "execution_count": null,
   "id": "bd6bbb58",
   "metadata": {},
   "outputs": [],
   "source": []
  },
  {
   "cell_type": "code",
   "execution_count": null,
   "id": "f40cf23d",
   "metadata": {},
   "outputs": [],
   "source": []
  },
  {
   "cell_type": "code",
   "execution_count": null,
   "id": "664b2866",
   "metadata": {},
   "outputs": [],
   "source": []
  },
  {
   "cell_type": "code",
   "execution_count": null,
   "id": "534e4016",
   "metadata": {},
   "outputs": [],
   "source": []
  },
  {
   "cell_type": "code",
   "execution_count": null,
   "id": "dbe37572",
   "metadata": {},
   "outputs": [],
   "source": [
    "# compute general indicators, features and target\n",
    "df = compute_technical_indicators(df)\n",
    "df = compute_features(df)\n",
    "df = define_target_condition(df)"
   ]
  },
  {
   "cell_type": "code",
   "execution_count": null,
   "id": "22d1cc00",
   "metadata": {},
   "outputs": [],
   "source": []
  },
  {
   "cell_type": "code",
   "execution_count": null,
   "id": "4f29f5b3",
   "metadata": {},
   "outputs": [],
   "source": [
    "# merge with custom indicators\n",
    "df = pd.merge(df, out_df1, how='inner', on='Date')\n",
    "df = pd.merge(df, out_df2, how='inner', on='Date')\n",
    "df = pd.merge(df, out_df3, how='inner', on='Date')\n",
    "df = pd.merge(df, out_df4, how='inner', on='Date')\n",
    "df = pd.merge(df, out_df5, how='inner', on='Date')"
   ]
  },
  {
   "cell_type": "code",
   "execution_count": null,
   "id": "55e36d76",
   "metadata": {},
   "outputs": [],
   "source": []
  },
  {
   "cell_type": "code",
   "execution_count": null,
   "id": "6e57286a",
   "metadata": {},
   "outputs": [],
   "source": []
  },
  {
   "cell_type": "code",
   "execution_count": null,
   "id": "cf516af8",
   "metadata": {},
   "outputs": [],
   "source": [
    "df.tail(2)"
   ]
  },
  {
   "cell_type": "code",
   "execution_count": null,
   "id": "aefd8906",
   "metadata": {},
   "outputs": [],
   "source": []
  },
  {
   "cell_type": "code",
   "execution_count": null,
   "id": "497eb9dc",
   "metadata": {},
   "outputs": [],
   "source": []
  },
  {
   "cell_type": "code",
   "execution_count": null,
   "id": "420ca00b",
   "metadata": {},
   "outputs": [],
   "source": []
  },
  {
   "cell_type": "code",
   "execution_count": null,
   "id": "9f11cf1e",
   "metadata": {},
   "outputs": [],
   "source": [
    "# actual prediction\n",
    "# can take longer if the dataframe is big\n",
    "predict_timeseries(df, clf)"
   ]
  },
  {
   "cell_type": "code",
   "execution_count": null,
   "id": "044d5c25",
   "metadata": {},
   "outputs": [],
   "source": []
  },
  {
   "cell_type": "code",
   "execution_count": null,
   "id": "bdba7f58",
   "metadata": {
    "scrolled": true
   },
   "outputs": [],
   "source": []
  },
  {
   "cell_type": "markdown",
   "id": "7734a4d2",
   "metadata": {
    "scrolled": true
   },
   "source": [
    "### General prediction plots\n",
    "does not work well for stocks with intra-day data (for example 1 minute granularity)"
   ]
  },
  {
   "cell_type": "code",
   "execution_count": null,
   "id": "b4da23f7",
   "metadata": {},
   "outputs": [],
   "source": [
    "# high level view\n",
    "ticks_back = 1200 # lookback n candles from now\n",
    "plot_stock_prediction_tb(df, symbol, ticks_back)"
   ]
  },
  {
   "cell_type": "code",
   "execution_count": null,
   "id": "1fb19784",
   "metadata": {},
   "outputs": [],
   "source": [
    "# zoomed in view\n",
    "ticks_back = 500 # lookback n candles from now\n",
    "plot_stock_prediction_tb(df, symbol, ticks_back)"
   ]
  },
  {
   "cell_type": "code",
   "execution_count": null,
   "id": "f9e3d766",
   "metadata": {},
   "outputs": [],
   "source": []
  },
  {
   "cell_type": "markdown",
   "id": "6dcc8dc9",
   "metadata": {},
   "source": [
    "### Intra day plots\n",
    "good for stocks on 1 minute time granularity, manages intra day gaps in plots"
   ]
  },
  {
   "cell_type": "code",
   "execution_count": null,
   "id": "c9f4e229",
   "metadata": {},
   "outputs": [],
   "source": [
    "# high level view\n",
    "ticks_back = 1200 # lookback n candles from now\n",
    "plot_stock_prediction_zoom(df, symbol, ticks_back)"
   ]
  },
  {
   "cell_type": "code",
   "execution_count": null,
   "id": "a8dfdf08",
   "metadata": {},
   "outputs": [],
   "source": [
    "# zoomed in view\n",
    "ticks_back = 500 # lookback n candles from now\n",
    "plot_stock_prediction_zoom(df, symbol, ticks_back)"
   ]
  },
  {
   "cell_type": "code",
   "execution_count": null,
   "id": "f71d369f",
   "metadata": {},
   "outputs": [],
   "source": []
  },
  {
   "cell_type": "code",
   "execution_count": null,
   "id": "97d47422",
   "metadata": {},
   "outputs": [],
   "source": []
  },
  {
   "cell_type": "code",
   "execution_count": null,
   "id": "ca2ec4e7",
   "metadata": {},
   "outputs": [],
   "source": []
  },
  {
   "cell_type": "code",
   "execution_count": null,
   "id": "802d4389",
   "metadata": {},
   "outputs": [],
   "source": []
  },
  {
   "cell_type": "code",
   "execution_count": null,
   "id": "c81fecf4",
   "metadata": {},
   "outputs": [],
   "source": []
  },
  {
   "cell_type": "code",
   "execution_count": null,
   "id": "33493795",
   "metadata": {},
   "outputs": [],
   "source": []
  },
  {
   "cell_type": "code",
   "execution_count": null,
   "id": "2a0a60ce",
   "metadata": {},
   "outputs": [],
   "source": []
  },
  {
   "cell_type": "code",
   "execution_count": null,
   "id": "d7d460e4",
   "metadata": {},
   "outputs": [],
   "source": []
  },
  {
   "cell_type": "code",
   "execution_count": null,
   "id": "e3396e17",
   "metadata": {},
   "outputs": [],
   "source": []
  },
  {
   "cell_type": "markdown",
   "id": "bb987e7f",
   "metadata": {},
   "source": [
    "# Daemonize the script to run every minute\n",
    "but running script every minute by cron should be more reliable, also prevents time drift"
   ]
  },
  {
   "cell_type": "code",
   "execution_count": null,
   "id": "eb3304e9",
   "metadata": {},
   "outputs": [],
   "source": [
    "# --- UNCOMMENT TO RUN CONTINUOUSLY ---\n",
    "\n",
    "#while True:\n",
    "#    \n",
    "#    ## #data = get_ticker_data_from_db(symbol, db_name, table_name)\n",
    "#    ##data = get_ticker_data_from_db_days_back(symbol, db_name, table_name)\n",
    "#    ##df = resample_data(data, granularity=granularity)\n",
    "#   \n",
    "#\n",
    "#    # yfinance temp workaround\n",
    "#    df = get_data(symbol, interval)\n",
    "#\n",
    "#    # prepare dfs with extra indicators\n",
    "#    out_df1 = superjumpTBB(df)      # superjumpTBB\n",
    "#    out_df1.replace({False: 0, True: 1}, inplace=True)\n",
    "#    out_df2 = HHLL_Strategy(df)  # HHHL indicator\n",
    "#    out_df2.replace({False: 0, True: 1}, inplace=True)\n",
    "#    out_df3 = HHLL_confirmation(df)  # HHLL confirmation\n",
    "#    # converting 'u','d', 'none' to integers for 'trend_conf' col\n",
    "#    out_df3.replace({'d': 0, 'u': 1, 'none': -1}, inplace=True)\n",
    "#    out_df4 = HHLL_Channel(df)\n",
    "#    out_df5 = rsi_strategy(df)\n",
    "#\n",
    "#    # compute general indicators, features and target\n",
    "#    df = compute_technical_indicators(df)\n",
    "#    df = compute_features(df)\n",
    "#    df = define_target_condition(df)\n",
    "#\n",
    "#    # merge with custom indicators\n",
    "#    df = pd.merge(df, out_df1, how='inner', on='Date')\n",
    "#    df = pd.merge(df, out_df2, how='inner', on='Date')\n",
    "#    df = pd.merge(df, out_df3, how='inner', on='Date')\n",
    "#    df = pd.merge(df, out_df4, how='inner', on='Date')\n",
    "#    df = pd.merge(df, out_df5, how='inner', on='Date')\n",
    "#\n",
    "#    # actual prediction\n",
    "#    # can take longer if the dataframe is big\n",
    "#    # so we are making shorter dataframe for this\n",
    "#    df_short = df.iloc[-100:]\n",
    "#    \n",
    "#    predict_timeseries(df_short, clf)\n",
    "#\n",
    "#    # zoomed in plot view\n",
    "#    ticks_back = 500 # lookback n candles from now\n",
    "#    plot_stock_prediction_zoom(df_short, symbol, ticks_back)\n",
    "#\n",
    "#\n",
    "#\n",
    "#    time.sleep(60)\n"
   ]
  },
  {
   "cell_type": "code",
   "execution_count": null,
   "id": "8ce1071b",
   "metadata": {},
   "outputs": [],
   "source": []
  }
 ],
 "metadata": {
  "kernelspec": {
   "display_name": "Python 3 (ipykernel)",
   "language": "python",
   "name": "python3"
  },
  "language_info": {
   "codemirror_mode": {
    "name": "ipython",
    "version": 3
   },
   "file_extension": ".py",
   "mimetype": "text/x-python",
   "name": "python",
   "nbconvert_exporter": "python",
   "pygments_lexer": "ipython3",
   "version": "3.10.6"
  }
 },
 "nbformat": 4,
 "nbformat_minor": 5
}
