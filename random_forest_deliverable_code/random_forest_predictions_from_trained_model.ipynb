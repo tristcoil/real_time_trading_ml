{
  "nbformat": 4,
  "nbformat_minor": 0,
  "metadata": {
    "colab": {
      "name": "random_forest_predictions_from_trained_model.ipynb",
      "provenance": [],
      "collapsed_sections": []
    },
    "kernelspec": {
      "name": "python3",
      "display_name": "Python 3"
    },
    "language_info": {
      "name": "python"
    }
  },
  "cells": [
    {
      "cell_type": "markdown",
      "source": [
        "# Stock trend prediction with Machine Learning (random forests)\n",
        "takes pretrained Random forest model and runs predictions on unseen data."
      ],
      "metadata": {
        "id": "1DYbeiEjbvi4"
      }
    },
    {
      "cell_type": "code",
      "source": [
        "!pip install talib-binary\n",
        "!pip install yfinance"
      ],
      "metadata": {
        "colab": {
          "base_uri": "https://localhost:8080/"
        },
        "id": "Z8e0F20Dbn_D",
        "outputId": "7b0818bc-d8a3-4dae-e7e7-0f8cd73aa8d8"
      },
      "execution_count": null,
      "outputs": [
        {
          "output_type": "stream",
          "name": "stdout",
          "text": [
            "Looking in indexes: https://pypi.org/simple, https://us-python.pkg.dev/colab-wheels/public/simple/\n",
            "Requirement already satisfied: talib-binary in /usr/local/lib/python3.7/dist-packages (0.4.19)\n",
            "Requirement already satisfied: numpy in /usr/local/lib/python3.7/dist-packages (from talib-binary) (1.21.6)\n",
            "Looking in indexes: https://pypi.org/simple, https://us-python.pkg.dev/colab-wheels/public/simple/\n",
            "Requirement already satisfied: yfinance in /usr/local/lib/python3.7/dist-packages (0.1.74)\n",
            "Requirement already satisfied: lxml>=4.5.1 in /usr/local/lib/python3.7/dist-packages (from yfinance) (4.9.1)\n",
            "Requirement already satisfied: multitasking>=0.0.7 in /usr/local/lib/python3.7/dist-packages (from yfinance) (0.0.11)\n",
            "Requirement already satisfied: pandas>=0.24.0 in /usr/local/lib/python3.7/dist-packages (from yfinance) (1.3.5)\n",
            "Requirement already satisfied: requests>=2.26 in /usr/local/lib/python3.7/dist-packages (from yfinance) (2.28.1)\n",
            "Requirement already satisfied: numpy>=1.15 in /usr/local/lib/python3.7/dist-packages (from yfinance) (1.21.6)\n",
            "Requirement already satisfied: pytz>=2017.3 in /usr/local/lib/python3.7/dist-packages (from pandas>=0.24.0->yfinance) (2022.1)\n",
            "Requirement already satisfied: python-dateutil>=2.7.3 in /usr/local/lib/python3.7/dist-packages (from pandas>=0.24.0->yfinance) (2.8.2)\n",
            "Requirement already satisfied: six>=1.5 in /usr/local/lib/python3.7/dist-packages (from python-dateutil>=2.7.3->pandas>=0.24.0->yfinance) (1.15.0)\n",
            "Requirement already satisfied: urllib3<1.27,>=1.21.1 in /usr/local/lib/python3.7/dist-packages (from requests>=2.26->yfinance) (1.24.3)\n",
            "Requirement already satisfied: certifi>=2017.4.17 in /usr/local/lib/python3.7/dist-packages (from requests>=2.26->yfinance) (2022.6.15)\n",
            "Requirement already satisfied: idna<4,>=2.5 in /usr/local/lib/python3.7/dist-packages (from requests>=2.26->yfinance) (2.10)\n",
            "Requirement already satisfied: charset-normalizer<3,>=2 in /usr/local/lib/python3.7/dist-packages (from requests>=2.26->yfinance) (2.1.0)\n"
          ]
        }
      ]
    },
    {
      "cell_type": "code",
      "source": [
        "import talib as ta\n",
        "import yfinance as yf\n",
        "import joblib\n",
        "\n",
        "import pandas as pd\n",
        "import numpy as np\n",
        "import matplotlib.pyplot as plt\n",
        "import datetime\n",
        "import time\n",
        "\n",
        "# ML related imports\n",
        "from sklearn.model_selection import train_test_split\n",
        "from sklearn.ensemble import RandomForestClassifier\n",
        "from sklearn.metrics import classification_report"
      ],
      "metadata": {
        "id": "RCAz22t8bn7a"
      },
      "execution_count": null,
      "outputs": []
    },
    {
      "cell_type": "code",
      "source": [
        "# --- additional setup ---\n",
        "from pandas.plotting import register_matplotlib_converters\n",
        "register_matplotlib_converters()\n",
        "\n",
        "#suppress 'SettingWithCopy' warning\n",
        "pd.set_option('mode.chained_assignment', None)\n",
        "\n",
        "# make pandas to print dataframes nicely\n",
        "pd.set_option('expand_frame_repr', False)  \n",
        "\n",
        "# colab/jupyter setup\n",
        "from IPython.core.display import display, HTML\n",
        "display(HTML(\"<style>.container { width:100% !important; }</style>\"))\n",
        "%matplotlib inline"
      ],
      "metadata": {
        "id": "dL5VweBCbn1D",
        "colab": {
          "base_uri": "https://localhost:8080/",
          "height": 17
        },
        "outputId": "47c15259-ada9-4033-e035-72306903180e"
      },
      "execution_count": null,
      "outputs": [
        {
          "output_type": "display_data",
          "data": {
            "text/plain": [
              "<IPython.core.display.HTML object>"
            ],
            "text/html": [
              "<style>.container { width:100% !important; }</style>"
            ]
          },
          "metadata": {}
        }
      ]
    },
    {
      "cell_type": "code",
      "source": [
        ""
      ],
      "metadata": {
        "id": "fxym-rEVbjrh"
      },
      "execution_count": null,
      "outputs": []
    },
    {
      "cell_type": "code",
      "source": [
        ""
      ],
      "metadata": {
        "id": "SSJwGdVebjfc"
      },
      "execution_count": null,
      "outputs": []
    },
    {
      "cell_type": "code",
      "source": [
        ""
      ],
      "metadata": {
        "id": "tg6T-uYDbiqT"
      },
      "execution_count": null,
      "outputs": []
    },
    {
      "cell_type": "code",
      "source": [
        "\n",
        "start_time = datetime.datetime(2021, 1, 1)\n",
        "#end_time = datetime.datetime(2019, 1, 20)\n",
        "end_time = datetime.datetime.now().date().isoformat()         # today"
      ],
      "metadata": {
        "id": "iwsrwerZbig8"
      },
      "execution_count": null,
      "outputs": []
    },
    {
      "cell_type": "markdown",
      "source": [
        "## Function definitions"
      ],
      "metadata": {
        "id": "xE9Bsks_cMTz"
      }
    },
    {
      "cell_type": "code",
      "source": [
        "def get_data(ticker):\n",
        "    # yahoo API\n",
        "    connected = False\n",
        "    while not connected:\n",
        "        try:\n",
        "            df = yf.download(ticker, start=start_time, end=end_time)\n",
        "            connected = True\n",
        "            print('connected to yahoo')\n",
        "        except Exception as e:\n",
        "            print(\"type error: \" + str(e))\n",
        "            time.sleep( 5 )\n",
        "            pass   \n",
        "\n",
        "    # use numerical integer index instead of date    \n",
        "    df = df.reset_index()\n",
        "    #print(df.head(5))\n",
        "    return df"
      ],
      "metadata": {
        "id": "444OnEpKbiZt"
      },
      "execution_count": null,
      "outputs": []
    },
    {
      "cell_type": "code",
      "source": [
        "def compute_technical_indicators(df):\n",
        "    df['EMA5'] = ta.EMA(df['Adj Close'].values, timeperiod=5)\n",
        "    df['EMA10'] = ta.EMA(df['Adj Close'].values, timeperiod=10)\n",
        "    df['EMA15'] = ta.EMA(df['Adj Close'].values, timeperiod=15)\n",
        "    df['EMA20'] = ta.EMA(df['Adj Close'].values, timeperiod=10)\n",
        "    df['EMA30'] = ta.EMA(df['Adj Close'].values, timeperiod=30)\n",
        "    df['EMA40'] = ta.EMA(df['Adj Close'].values, timeperiod=40)\n",
        "    df['EMA50'] = ta.EMA(df['Adj Close'].values, timeperiod=50)\n",
        "\n",
        "    df['EMA60'] = ta.EMA(df['Adj Close'].values, timeperiod=60)\n",
        "    df['EMA70'] = ta.EMA(df['Adj Close'].values, timeperiod=70)\n",
        "    df['EMA80'] = ta.EMA(df['Adj Close'].values, timeperiod=80)\n",
        "    df['EMA90'] = ta.EMA(df['Adj Close'].values, timeperiod=90)\n",
        "    \n",
        "    df['EMA100'] = ta.EMA(df['Adj Close'].values, timeperiod=100)\n",
        "    df['EMA150'] = ta.EMA(df['Adj Close'].values, timeperiod=150)\n",
        "    df['EMA200'] = ta.EMA(df['Adj Close'].values, timeperiod=200)\n",
        "\n",
        "    df['upperBB'], df['middleBB'], df['lowerBB'] = ta.BBANDS(df['Adj Close'].values, timeperiod=20, nbdevup=2, nbdevdn=2, matype=0)\n",
        "\n",
        "    df['SAR'] = ta.SAR(df['High'].values, df['Low'].values, acceleration=0.02, maximum=0.2)\n",
        "\n",
        "    df['RSI'] = ta.RSI(df['Adj Close'].values, timeperiod=14)\n",
        "\n",
        "    df.tail()\n",
        "\n",
        "    return df"
      ],
      "metadata": {
        "id": "IyMwM-nQbiJU"
      },
      "execution_count": null,
      "outputs": []
    },
    {
      "cell_type": "code",
      "source": [
        ""
      ],
      "metadata": {
        "id": "U8_IwjQDbiCz"
      },
      "execution_count": null,
      "outputs": []
    },
    {
      "cell_type": "code",
      "source": [
        "def compute_features(df):\n",
        "    # computes features for forest decisions\n",
        "    df['aboveEMA5'] = np.where(df['Adj Close'] > df['EMA5'], 1, -1)\n",
        "    df['aboveEMA10'] = np.where(df['Adj Close'] > df['EMA10'], 1, -1)\n",
        "    df['aboveEMA15'] = np.where(df['Adj Close'] > df['EMA15'], 1, -1)\n",
        "    df['aboveEMA20'] = np.where(df['Adj Close'] > df['EMA20'], 1, -1)\n",
        "    df['aboveEMA30'] = np.where(df['Adj Close'] > df['EMA30'], 1, -1)\n",
        "    df['aboveEMA40'] = np.where(df['Adj Close'] > df['EMA40'], 1, -1)\n",
        "    \n",
        "    df['aboveEMA50'] = np.where(df['Adj Close'] > df['EMA50'], 1, -1)\n",
        "    df['aboveEMA60'] = np.where(df['Adj Close'] > df['EMA60'], 1, -1)\n",
        "    df['aboveEMA70'] = np.where(df['Adj Close'] > df['EMA70'], 1, -1)\n",
        "    df['aboveEMA80'] = np.where(df['Adj Close'] > df['EMA80'], 1, -1)\n",
        "    df['aboveEMA90'] = np.where(df['Adj Close'] > df['EMA90'], 1, -1)\n",
        "    \n",
        "    df['aboveEMA100'] = np.where(df['Adj Close'] > df['EMA100'], 1, -1)\n",
        "    df['aboveEMA150'] = np.where(df['Adj Close'] > df['EMA150'], 1, -1)\n",
        "    df['aboveEMA200'] = np.where(df['Adj Close'] > df['EMA200'], 1, -1)\n",
        "\n",
        "    df['aboveUpperBB'] = np.where(df['Adj Close'] > df['upperBB'], 1, -1)\n",
        "    df['belowLowerBB'] = np.where(df['Adj Close'] < df['lowerBB'], 1, -1)\n",
        "    \n",
        "    df['aboveSAR'] = np.where(df['Adj Close'] > df['SAR'], 1, -1)\n",
        "   \n",
        "    df['oversoldRSI'] = np.where(df['RSI'] < 30, 1, -1)\n",
        "    df['overboughtRSI'] = np.where(df['RSI'] > 70, 1, -1)\n",
        "\n",
        "\n",
        "    # very important - cleanup NaN values, otherwise prediction does not work\n",
        "    df=df.fillna(0).copy()\n",
        "    \n",
        "    #df.tail()\n",
        "\n",
        "    return df"
      ],
      "metadata": {
        "id": "9dXm94kxeBzX"
      },
      "execution_count": null,
      "outputs": []
    },
    {
      "cell_type": "code",
      "source": [
        "def plot_train_data(df):\n",
        "    # plot price\n",
        "    plt.figure(figsize=(15,2.5))\n",
        "    plt.title('Stock data ' + str(ticker))\n",
        "    plt.plot(df['Date'], df['Adj Close'])\n",
        "    #plt.title('Price chart (Adj Close) ' + str(ticker))\n",
        "    plt.show()\n",
        "    return None"
      ],
      "metadata": {
        "id": "OXkdE-48eBxH"
      },
      "execution_count": null,
      "outputs": []
    },
    {
      "cell_type": "code",
      "source": [
        ""
      ],
      "metadata": {
        "id": "fOu00FdneBuB"
      },
      "execution_count": null,
      "outputs": []
    },
    {
      "cell_type": "code",
      "source": [
        "def define_target_condition(df):\n",
        " \n",
        "    # price higher later - bad predictive results\n",
        "    #df['target_cls'] = np.where(df['Adj Close'].shift(-34) > df['Adj Close'], 1, 0)    \n",
        "    \n",
        "    # price above trend multiple days later\n",
        "    df['target_cls'] = np.where(df['Adj Close'].shift(-55) > df.EMA150.shift(-55), 1, 0)\n",
        "\n",
        "    # important, remove NaN values\n",
        "    df=df.fillna(0).copy()\n",
        "    \n",
        "    df.tail()\n",
        "    \n",
        "    return df"
      ],
      "metadata": {
        "id": "yM7H81h9eBq8"
      },
      "execution_count": null,
      "outputs": []
    },
    {
      "cell_type": "code",
      "source": [
        ""
      ],
      "metadata": {
        "id": "u8KEbT44eBn2"
      },
      "execution_count": null,
      "outputs": []
    },
    {
      "cell_type": "code",
      "source": [
        ""
      ],
      "metadata": {
        "id": "b7IkDcNlein-"
      },
      "execution_count": null,
      "outputs": []
    },
    {
      "cell_type": "code",
      "source": [
        "def predict_timeseries(df, clf):\n",
        "    \n",
        "    df['Buy'] = np.nan\n",
        "    \n",
        "    for i in range(len(df)):\n",
        "        X_cls_valid = [[df['aboveSAR'][i],df['aboveUpperBB'][i],df['belowLowerBB'][i],\n",
        "                        df['RSI'][i],df['oversoldRSI'][i],df['overboughtRSI'][i],\n",
        "                        df['aboveEMA5'][i],df['aboveEMA10'][i],df['aboveEMA15'][i],df['aboveEMA20'][i],\n",
        "                        df['aboveEMA30'][i],df['aboveEMA40'][i],df['aboveEMA50'][i],\n",
        "                        df['aboveEMA60'][i],df['aboveEMA70'][i],df['aboveEMA80'][i],df['aboveEMA90'][i],\n",
        "                        df['aboveEMA100'][i]]]    \n",
        "\n",
        "        y_cls_pred_valid = clf.predict(X_cls_valid)\n",
        "        df['Buy'][i] = y_cls_pred_valid[0].copy()\n",
        "        print('df[Buy][i]',i , df['Buy'][i])\n",
        "\n",
        "    #print(df.head())    \n",
        "        \n",
        "    return df"
      ],
      "metadata": {
        "id": "ATPCXK7Meikz"
      },
      "execution_count": null,
      "outputs": []
    },
    {
      "cell_type": "code",
      "source": [
        ""
      ],
      "metadata": {
        "id": "qGGsqZhMeih5"
      },
      "execution_count": null,
      "outputs": []
    },
    {
      "cell_type": "code",
      "source": [
        "def plot_stock_prediction(df, ticker):\n",
        "    # plot  values and significant levels\n",
        "    plt.figure(figsize=(20,7))\n",
        "    plt.title('Predictive model ' + str(ticker))\n",
        "    plt.plot(df['Date'], df['Adj Close'], label='High', alpha=0.2)\n",
        "\n",
        "    plt.plot(df['Date'], df['EMA10'], label='EMA10', alpha=0.2)\n",
        "    plt.plot(df['Date'], df['EMA20'], label='EMA20', alpha=0.2)\n",
        "    plt.plot(df['Date'], df['EMA30'], label='EMA30', alpha=0.2)\n",
        "    plt.plot(df['Date'], df['EMA40'], label='EMA40', alpha=0.2)\n",
        "    plt.plot(df['Date'], df['EMA50'], label='EMA50', alpha=0.2)\n",
        "    plt.plot(df['Date'], df['EMA100'], label='EMA100', alpha=0.2)\n",
        "    plt.plot(df['Date'], df['EMA150'], label='EMA150', alpha=0.99)\n",
        "    plt.plot(df['Date'], df['EMA200'], label='EMA200', alpha=0.2)\n",
        "\n",
        "\n",
        "    plt.scatter(df['Date'], df['Buy']*df['Adj Close'], label='Buy', marker='^', color='magenta', alpha=0.15)\n",
        "    #lt.scatter(df.index, df['sell_sig'], label='Sell', marker='v')\n",
        "\n",
        "    plt.legend()\n",
        "\n",
        "    plt.show()\n",
        "\n",
        "    return None   "
      ],
      "metadata": {
        "id": "paMFOuj_eieu"
      },
      "execution_count": null,
      "outputs": []
    },
    {
      "cell_type": "code",
      "source": [
        ""
      ],
      "metadata": {
        "id": "sFLcP3L5eicL"
      },
      "execution_count": null,
      "outputs": []
    },
    {
      "cell_type": "code",
      "source": [
        ""
      ],
      "metadata": {
        "id": "YYT81rixeiY3"
      },
      "execution_count": null,
      "outputs": []
    },
    {
      "cell_type": "code",
      "source": [
        ""
      ],
      "metadata": {
        "id": "AHmEgaxceiVm"
      },
      "execution_count": null,
      "outputs": []
    },
    {
      "cell_type": "markdown",
      "source": [
        "# Prediction\n",
        "Here the model will perform trend predictions on an unknown dataset (has not seen it during training or testing)."
      ],
      "metadata": {
        "id": "FcRgiQape-e8"
      }
    },
    {
      "cell_type": "code",
      "source": [
        "#ticker='BP'\n",
        "#ticker='ABBV'\n",
        "ticker='GILD'\n",
        "#ticker='NGG'\n"
      ],
      "metadata": {
        "id": "iHOX6ptde3io"
      },
      "execution_count": null,
      "outputs": []
    },
    {
      "cell_type": "code",
      "source": [
        "# load classifier, no need to initialize the loaded_rf\n",
        "loaded_clf = joblib.load(\"./random_forest.joblib\")\n",
        "clf = loaded_clf"
      ],
      "metadata": {
        "id": "F6RD2Bfre3f4"
      },
      "execution_count": null,
      "outputs": []
    },
    {
      "cell_type": "code",
      "source": [
        "new_df = get_data(ticker)"
      ],
      "metadata": {
        "colab": {
          "base_uri": "https://localhost:8080/"
        },
        "id": "LrasUOyde3cf",
        "outputId": "03a86365-90e0-477a-f5d0-c1439d8acf65"
      },
      "execution_count": null,
      "outputs": [
        {
          "output_type": "stream",
          "name": "stdout",
          "text": [
            "\r[*********************100%***********************]  1 of 1 completed\n",
            "connected to yahoo\n"
          ]
        }
      ]
    },
    {
      "cell_type": "code",
      "source": [
        "new_df.head()"
      ],
      "metadata": {
        "colab": {
          "base_uri": "https://localhost:8080/",
          "height": 206
        },
        "id": "hJOutbbR3Hxa",
        "outputId": "5e80f6b2-de8a-408a-f2fc-74bf4f055800"
      },
      "execution_count": null,
      "outputs": [
        {
          "output_type": "execute_result",
          "data": {
            "text/plain": [
              "        Date       Open       High        Low      Close  Adj Close    Volume\n",
              "0 2021-01-04  58.669998  60.160000  57.930000  60.110001  56.219360  15520000\n",
              "1 2021-01-05  60.230000  60.450001  59.619999  60.000000  56.116482  13251100\n",
              "2 2021-01-06  59.700001  62.080002  59.700001  61.950001  57.940266  12222500\n",
              "3 2021-01-07  61.900002  63.240002  61.520000  62.520000  58.473370  10614700\n",
              "4 2021-01-08  62.610001  63.410000  62.509998  63.040001  58.959713   8389800"
            ],
            "text/html": [
              "\n",
              "  <div id=\"df-b97377e9-3c3a-402d-a7b8-c74cf2ad2d3c\">\n",
              "    <div class=\"colab-df-container\">\n",
              "      <div>\n",
              "<style scoped>\n",
              "    .dataframe tbody tr th:only-of-type {\n",
              "        vertical-align: middle;\n",
              "    }\n",
              "\n",
              "    .dataframe tbody tr th {\n",
              "        vertical-align: top;\n",
              "    }\n",
              "\n",
              "    .dataframe thead th {\n",
              "        text-align: right;\n",
              "    }\n",
              "</style>\n",
              "<table border=\"1\" class=\"dataframe\">\n",
              "  <thead>\n",
              "    <tr style=\"text-align: right;\">\n",
              "      <th></th>\n",
              "      <th>Date</th>\n",
              "      <th>Open</th>\n",
              "      <th>High</th>\n",
              "      <th>Low</th>\n",
              "      <th>Close</th>\n",
              "      <th>Adj Close</th>\n",
              "      <th>Volume</th>\n",
              "    </tr>\n",
              "  </thead>\n",
              "  <tbody>\n",
              "    <tr>\n",
              "      <th>0</th>\n",
              "      <td>2021-01-04</td>\n",
              "      <td>58.669998</td>\n",
              "      <td>60.160000</td>\n",
              "      <td>57.930000</td>\n",
              "      <td>60.110001</td>\n",
              "      <td>56.219360</td>\n",
              "      <td>15520000</td>\n",
              "    </tr>\n",
              "    <tr>\n",
              "      <th>1</th>\n",
              "      <td>2021-01-05</td>\n",
              "      <td>60.230000</td>\n",
              "      <td>60.450001</td>\n",
              "      <td>59.619999</td>\n",
              "      <td>60.000000</td>\n",
              "      <td>56.116482</td>\n",
              "      <td>13251100</td>\n",
              "    </tr>\n",
              "    <tr>\n",
              "      <th>2</th>\n",
              "      <td>2021-01-06</td>\n",
              "      <td>59.700001</td>\n",
              "      <td>62.080002</td>\n",
              "      <td>59.700001</td>\n",
              "      <td>61.950001</td>\n",
              "      <td>57.940266</td>\n",
              "      <td>12222500</td>\n",
              "    </tr>\n",
              "    <tr>\n",
              "      <th>3</th>\n",
              "      <td>2021-01-07</td>\n",
              "      <td>61.900002</td>\n",
              "      <td>63.240002</td>\n",
              "      <td>61.520000</td>\n",
              "      <td>62.520000</td>\n",
              "      <td>58.473370</td>\n",
              "      <td>10614700</td>\n",
              "    </tr>\n",
              "    <tr>\n",
              "      <th>4</th>\n",
              "      <td>2021-01-08</td>\n",
              "      <td>62.610001</td>\n",
              "      <td>63.410000</td>\n",
              "      <td>62.509998</td>\n",
              "      <td>63.040001</td>\n",
              "      <td>58.959713</td>\n",
              "      <td>8389800</td>\n",
              "    </tr>\n",
              "  </tbody>\n",
              "</table>\n",
              "</div>\n",
              "      <button class=\"colab-df-convert\" onclick=\"convertToInteractive('df-b97377e9-3c3a-402d-a7b8-c74cf2ad2d3c')\"\n",
              "              title=\"Convert this dataframe to an interactive table.\"\n",
              "              style=\"display:none;\">\n",
              "        \n",
              "  <svg xmlns=\"http://www.w3.org/2000/svg\" height=\"24px\"viewBox=\"0 0 24 24\"\n",
              "       width=\"24px\">\n",
              "    <path d=\"M0 0h24v24H0V0z\" fill=\"none\"/>\n",
              "    <path d=\"M18.56 5.44l.94 2.06.94-2.06 2.06-.94-2.06-.94-.94-2.06-.94 2.06-2.06.94zm-11 1L8.5 8.5l.94-2.06 2.06-.94-2.06-.94L8.5 2.5l-.94 2.06-2.06.94zm10 10l.94 2.06.94-2.06 2.06-.94-2.06-.94-.94-2.06-.94 2.06-2.06.94z\"/><path d=\"M17.41 7.96l-1.37-1.37c-.4-.4-.92-.59-1.43-.59-.52 0-1.04.2-1.43.59L10.3 9.45l-7.72 7.72c-.78.78-.78 2.05 0 2.83L4 21.41c.39.39.9.59 1.41.59.51 0 1.02-.2 1.41-.59l7.78-7.78 2.81-2.81c.8-.78.8-2.07 0-2.86zM5.41 20L4 18.59l7.72-7.72 1.47 1.35L5.41 20z\"/>\n",
              "  </svg>\n",
              "      </button>\n",
              "      \n",
              "  <style>\n",
              "    .colab-df-container {\n",
              "      display:flex;\n",
              "      flex-wrap:wrap;\n",
              "      gap: 12px;\n",
              "    }\n",
              "\n",
              "    .colab-df-convert {\n",
              "      background-color: #E8F0FE;\n",
              "      border: none;\n",
              "      border-radius: 50%;\n",
              "      cursor: pointer;\n",
              "      display: none;\n",
              "      fill: #1967D2;\n",
              "      height: 32px;\n",
              "      padding: 0 0 0 0;\n",
              "      width: 32px;\n",
              "    }\n",
              "\n",
              "    .colab-df-convert:hover {\n",
              "      background-color: #E2EBFA;\n",
              "      box-shadow: 0px 1px 2px rgba(60, 64, 67, 0.3), 0px 1px 3px 1px rgba(60, 64, 67, 0.15);\n",
              "      fill: #174EA6;\n",
              "    }\n",
              "\n",
              "    [theme=dark] .colab-df-convert {\n",
              "      background-color: #3B4455;\n",
              "      fill: #D2E3FC;\n",
              "    }\n",
              "\n",
              "    [theme=dark] .colab-df-convert:hover {\n",
              "      background-color: #434B5C;\n",
              "      box-shadow: 0px 1px 3px 1px rgba(0, 0, 0, 0.15);\n",
              "      filter: drop-shadow(0px 1px 2px rgba(0, 0, 0, 0.3));\n",
              "      fill: #FFFFFF;\n",
              "    }\n",
              "  </style>\n",
              "\n",
              "      <script>\n",
              "        const buttonEl =\n",
              "          document.querySelector('#df-b97377e9-3c3a-402d-a7b8-c74cf2ad2d3c button.colab-df-convert');\n",
              "        buttonEl.style.display =\n",
              "          google.colab.kernel.accessAllowed ? 'block' : 'none';\n",
              "\n",
              "        async function convertToInteractive(key) {\n",
              "          const element = document.querySelector('#df-b97377e9-3c3a-402d-a7b8-c74cf2ad2d3c');\n",
              "          const dataTable =\n",
              "            await google.colab.kernel.invokeFunction('convertToInteractive',\n",
              "                                                     [key], {});\n",
              "          if (!dataTable) return;\n",
              "\n",
              "          const docLinkHtml = 'Like what you see? Visit the ' +\n",
              "            '<a target=\"_blank\" href=https://colab.research.google.com/notebooks/data_table.ipynb>data table notebook</a>'\n",
              "            + ' to learn more about interactive tables.';\n",
              "          element.innerHTML = '';\n",
              "          dataTable['output_type'] = 'display_data';\n",
              "          await google.colab.output.renderOutput(dataTable, element);\n",
              "          const docLink = document.createElement('div');\n",
              "          docLink.innerHTML = docLinkHtml;\n",
              "          element.appendChild(docLink);\n",
              "        }\n",
              "      </script>\n",
              "    </div>\n",
              "  </div>\n",
              "  "
            ]
          },
          "metadata": {},
          "execution_count": 15
        }
      ]
    },
    {
      "cell_type": "code",
      "source": [
        "#new_df.to_numpy()"
      ],
      "metadata": {
        "id": "XqQZsiznkaox"
      },
      "execution_count": null,
      "outputs": []
    },
    {
      "cell_type": "code",
      "source": [
        "new_df = compute_technical_indicators(new_df)"
      ],
      "metadata": {
        "id": "_gg-IoJWe3Z0"
      },
      "execution_count": null,
      "outputs": []
    },
    {
      "cell_type": "code",
      "source": [
        "new_df = compute_features(new_df)"
      ],
      "metadata": {
        "id": "mETXeU25e3WZ"
      },
      "execution_count": null,
      "outputs": []
    },
    {
      "cell_type": "code",
      "source": [
        "new_df=define_target_condition(new_df)"
      ],
      "metadata": {
        "id": "pdqiXUuHe3Tc"
      },
      "execution_count": null,
      "outputs": []
    },
    {
      "cell_type": "code",
      "source": [
        "new_df.tail()"
      ],
      "metadata": {
        "colab": {
          "base_uri": "https://localhost:8080/",
          "height": 404
        },
        "id": "hw_OV6r1oSsZ",
        "outputId": "cf6892df-1bb2-4295-91dc-6fe518a3421a"
      },
      "execution_count": null,
      "outputs": [
        {
          "output_type": "execute_result",
          "data": {
            "text/plain": [
              "          Date       Open       High        Low      Close  Adj Close    Volume       EMA5      EMA10      EMA15  ...  aboveEMA90  aboveEMA100  aboveEMA150  aboveEMA200  aboveUpperBB  belowLowerBB  aboveSAR  oversoldRSI  overboughtRSI  target_cls\n",
              "396 2022-08-01  59.770000  60.180000  59.270000  59.599998  59.599998   6742400  60.147425  60.615932  60.905779  ...          -1           -1           -1           -1            -1            -1        -1           -1             -1           0\n",
              "397 2022-08-02  59.740002  60.320000  59.290001  59.540001  59.540001   5981600  59.944950  60.420308  60.735057  ...          -1           -1           -1           -1            -1            -1        -1           -1             -1           0\n",
              "398 2022-08-03  60.869999  63.650002  60.639999  62.270000  62.270000  10066700  60.719967  60.756616  60.926925  ...           1            1            1           -1            -1            -1         1           -1             -1           0\n",
              "399 2022-08-04  62.139999  62.990002  61.830002  61.910000  61.910000   5520500  61.116645  60.966322  61.049809  ...           1            1           -1           -1            -1            -1         1           -1             -1           0\n",
              "400 2022-08-05  61.790001  61.840000  60.619999  61.090000  61.090000   6039600  61.107763  60.988809  61.054833  ...          -1           -1           -1           -1            -1            -1         1           -1             -1           0\n",
              "\n",
              "[5 rows x 46 columns]"
            ],
            "text/html": [
              "\n",
              "  <div id=\"df-c6ed50fe-51a6-4163-8273-d6eae5bac433\">\n",
              "    <div class=\"colab-df-container\">\n",
              "      <div>\n",
              "<style scoped>\n",
              "    .dataframe tbody tr th:only-of-type {\n",
              "        vertical-align: middle;\n",
              "    }\n",
              "\n",
              "    .dataframe tbody tr th {\n",
              "        vertical-align: top;\n",
              "    }\n",
              "\n",
              "    .dataframe thead th {\n",
              "        text-align: right;\n",
              "    }\n",
              "</style>\n",
              "<table border=\"1\" class=\"dataframe\">\n",
              "  <thead>\n",
              "    <tr style=\"text-align: right;\">\n",
              "      <th></th>\n",
              "      <th>Date</th>\n",
              "      <th>Open</th>\n",
              "      <th>High</th>\n",
              "      <th>Low</th>\n",
              "      <th>Close</th>\n",
              "      <th>Adj Close</th>\n",
              "      <th>Volume</th>\n",
              "      <th>EMA5</th>\n",
              "      <th>EMA10</th>\n",
              "      <th>EMA15</th>\n",
              "      <th>...</th>\n",
              "      <th>aboveEMA90</th>\n",
              "      <th>aboveEMA100</th>\n",
              "      <th>aboveEMA150</th>\n",
              "      <th>aboveEMA200</th>\n",
              "      <th>aboveUpperBB</th>\n",
              "      <th>belowLowerBB</th>\n",
              "      <th>aboveSAR</th>\n",
              "      <th>oversoldRSI</th>\n",
              "      <th>overboughtRSI</th>\n",
              "      <th>target_cls</th>\n",
              "    </tr>\n",
              "  </thead>\n",
              "  <tbody>\n",
              "    <tr>\n",
              "      <th>396</th>\n",
              "      <td>2022-08-01</td>\n",
              "      <td>59.770000</td>\n",
              "      <td>60.180000</td>\n",
              "      <td>59.270000</td>\n",
              "      <td>59.599998</td>\n",
              "      <td>59.599998</td>\n",
              "      <td>6742400</td>\n",
              "      <td>60.147425</td>\n",
              "      <td>60.615932</td>\n",
              "      <td>60.905779</td>\n",
              "      <td>...</td>\n",
              "      <td>-1</td>\n",
              "      <td>-1</td>\n",
              "      <td>-1</td>\n",
              "      <td>-1</td>\n",
              "      <td>-1</td>\n",
              "      <td>-1</td>\n",
              "      <td>-1</td>\n",
              "      <td>-1</td>\n",
              "      <td>-1</td>\n",
              "      <td>0</td>\n",
              "    </tr>\n",
              "    <tr>\n",
              "      <th>397</th>\n",
              "      <td>2022-08-02</td>\n",
              "      <td>59.740002</td>\n",
              "      <td>60.320000</td>\n",
              "      <td>59.290001</td>\n",
              "      <td>59.540001</td>\n",
              "      <td>59.540001</td>\n",
              "      <td>5981600</td>\n",
              "      <td>59.944950</td>\n",
              "      <td>60.420308</td>\n",
              "      <td>60.735057</td>\n",
              "      <td>...</td>\n",
              "      <td>-1</td>\n",
              "      <td>-1</td>\n",
              "      <td>-1</td>\n",
              "      <td>-1</td>\n",
              "      <td>-1</td>\n",
              "      <td>-1</td>\n",
              "      <td>-1</td>\n",
              "      <td>-1</td>\n",
              "      <td>-1</td>\n",
              "      <td>0</td>\n",
              "    </tr>\n",
              "    <tr>\n",
              "      <th>398</th>\n",
              "      <td>2022-08-03</td>\n",
              "      <td>60.869999</td>\n",
              "      <td>63.650002</td>\n",
              "      <td>60.639999</td>\n",
              "      <td>62.270000</td>\n",
              "      <td>62.270000</td>\n",
              "      <td>10066700</td>\n",
              "      <td>60.719967</td>\n",
              "      <td>60.756616</td>\n",
              "      <td>60.926925</td>\n",
              "      <td>...</td>\n",
              "      <td>1</td>\n",
              "      <td>1</td>\n",
              "      <td>1</td>\n",
              "      <td>-1</td>\n",
              "      <td>-1</td>\n",
              "      <td>-1</td>\n",
              "      <td>1</td>\n",
              "      <td>-1</td>\n",
              "      <td>-1</td>\n",
              "      <td>0</td>\n",
              "    </tr>\n",
              "    <tr>\n",
              "      <th>399</th>\n",
              "      <td>2022-08-04</td>\n",
              "      <td>62.139999</td>\n",
              "      <td>62.990002</td>\n",
              "      <td>61.830002</td>\n",
              "      <td>61.910000</td>\n",
              "      <td>61.910000</td>\n",
              "      <td>5520500</td>\n",
              "      <td>61.116645</td>\n",
              "      <td>60.966322</td>\n",
              "      <td>61.049809</td>\n",
              "      <td>...</td>\n",
              "      <td>1</td>\n",
              "      <td>1</td>\n",
              "      <td>-1</td>\n",
              "      <td>-1</td>\n",
              "      <td>-1</td>\n",
              "      <td>-1</td>\n",
              "      <td>1</td>\n",
              "      <td>-1</td>\n",
              "      <td>-1</td>\n",
              "      <td>0</td>\n",
              "    </tr>\n",
              "    <tr>\n",
              "      <th>400</th>\n",
              "      <td>2022-08-05</td>\n",
              "      <td>61.790001</td>\n",
              "      <td>61.840000</td>\n",
              "      <td>60.619999</td>\n",
              "      <td>61.090000</td>\n",
              "      <td>61.090000</td>\n",
              "      <td>6039600</td>\n",
              "      <td>61.107763</td>\n",
              "      <td>60.988809</td>\n",
              "      <td>61.054833</td>\n",
              "      <td>...</td>\n",
              "      <td>-1</td>\n",
              "      <td>-1</td>\n",
              "      <td>-1</td>\n",
              "      <td>-1</td>\n",
              "      <td>-1</td>\n",
              "      <td>-1</td>\n",
              "      <td>1</td>\n",
              "      <td>-1</td>\n",
              "      <td>-1</td>\n",
              "      <td>0</td>\n",
              "    </tr>\n",
              "  </tbody>\n",
              "</table>\n",
              "<p>5 rows × 46 columns</p>\n",
              "</div>\n",
              "      <button class=\"colab-df-convert\" onclick=\"convertToInteractive('df-c6ed50fe-51a6-4163-8273-d6eae5bac433')\"\n",
              "              title=\"Convert this dataframe to an interactive table.\"\n",
              "              style=\"display:none;\">\n",
              "        \n",
              "  <svg xmlns=\"http://www.w3.org/2000/svg\" height=\"24px\"viewBox=\"0 0 24 24\"\n",
              "       width=\"24px\">\n",
              "    <path d=\"M0 0h24v24H0V0z\" fill=\"none\"/>\n",
              "    <path d=\"M18.56 5.44l.94 2.06.94-2.06 2.06-.94-2.06-.94-.94-2.06-.94 2.06-2.06.94zm-11 1L8.5 8.5l.94-2.06 2.06-.94-2.06-.94L8.5 2.5l-.94 2.06-2.06.94zm10 10l.94 2.06.94-2.06 2.06-.94-2.06-.94-.94-2.06-.94 2.06-2.06.94z\"/><path d=\"M17.41 7.96l-1.37-1.37c-.4-.4-.92-.59-1.43-.59-.52 0-1.04.2-1.43.59L10.3 9.45l-7.72 7.72c-.78.78-.78 2.05 0 2.83L4 21.41c.39.39.9.59 1.41.59.51 0 1.02-.2 1.41-.59l7.78-7.78 2.81-2.81c.8-.78.8-2.07 0-2.86zM5.41 20L4 18.59l7.72-7.72 1.47 1.35L5.41 20z\"/>\n",
              "  </svg>\n",
              "      </button>\n",
              "      \n",
              "  <style>\n",
              "    .colab-df-container {\n",
              "      display:flex;\n",
              "      flex-wrap:wrap;\n",
              "      gap: 12px;\n",
              "    }\n",
              "\n",
              "    .colab-df-convert {\n",
              "      background-color: #E8F0FE;\n",
              "      border: none;\n",
              "      border-radius: 50%;\n",
              "      cursor: pointer;\n",
              "      display: none;\n",
              "      fill: #1967D2;\n",
              "      height: 32px;\n",
              "      padding: 0 0 0 0;\n",
              "      width: 32px;\n",
              "    }\n",
              "\n",
              "    .colab-df-convert:hover {\n",
              "      background-color: #E2EBFA;\n",
              "      box-shadow: 0px 1px 2px rgba(60, 64, 67, 0.3), 0px 1px 3px 1px rgba(60, 64, 67, 0.15);\n",
              "      fill: #174EA6;\n",
              "    }\n",
              "\n",
              "    [theme=dark] .colab-df-convert {\n",
              "      background-color: #3B4455;\n",
              "      fill: #D2E3FC;\n",
              "    }\n",
              "\n",
              "    [theme=dark] .colab-df-convert:hover {\n",
              "      background-color: #434B5C;\n",
              "      box-shadow: 0px 1px 3px 1px rgba(0, 0, 0, 0.15);\n",
              "      filter: drop-shadow(0px 1px 2px rgba(0, 0, 0, 0.3));\n",
              "      fill: #FFFFFF;\n",
              "    }\n",
              "  </style>\n",
              "\n",
              "      <script>\n",
              "        const buttonEl =\n",
              "          document.querySelector('#df-c6ed50fe-51a6-4163-8273-d6eae5bac433 button.colab-df-convert');\n",
              "        buttonEl.style.display =\n",
              "          google.colab.kernel.accessAllowed ? 'block' : 'none';\n",
              "\n",
              "        async function convertToInteractive(key) {\n",
              "          const element = document.querySelector('#df-c6ed50fe-51a6-4163-8273-d6eae5bac433');\n",
              "          const dataTable =\n",
              "            await google.colab.kernel.invokeFunction('convertToInteractive',\n",
              "                                                     [key], {});\n",
              "          if (!dataTable) return;\n",
              "\n",
              "          const docLinkHtml = 'Like what you see? Visit the ' +\n",
              "            '<a target=\"_blank\" href=https://colab.research.google.com/notebooks/data_table.ipynb>data table notebook</a>'\n",
              "            + ' to learn more about interactive tables.';\n",
              "          element.innerHTML = '';\n",
              "          dataTable['output_type'] = 'display_data';\n",
              "          await google.colab.output.renderOutput(dataTable, element);\n",
              "          const docLink = document.createElement('div');\n",
              "          docLink.innerHTML = docLinkHtml;\n",
              "          element.appendChild(docLink);\n",
              "        }\n",
              "      </script>\n",
              "    </div>\n",
              "  </div>\n",
              "  "
            ]
          },
          "metadata": {},
          "execution_count": 20
        }
      ]
    },
    {
      "cell_type": "code",
      "source": [
        "# https://stackoverflow.com/questions/69326639/sklearn-warning-valid-feature-names-in-version-1-0"
      ],
      "metadata": {
        "id": "0AzSfx5xvMcz"
      },
      "execution_count": null,
      "outputs": []
    },
    {
      "cell_type": "code",
      "source": [
        ""
      ],
      "metadata": {
        "id": "Vemn7LJF-lpU"
      },
      "execution_count": null,
      "outputs": []
    },
    {
      "cell_type": "code",
      "source": [
        ""
      ],
      "metadata": {
        "id": "z9y3dyco-liN"
      },
      "execution_count": null,
      "outputs": []
    },
    {
      "cell_type": "code",
      "source": [
        ""
      ],
      "metadata": {
        "id": "AfLxbDTm-t79"
      },
      "execution_count": null,
      "outputs": []
    },
    {
      "cell_type": "code",
      "source": [
        ""
      ],
      "metadata": {
        "id": "Rbogf6xh-t4L"
      },
      "execution_count": null,
      "outputs": []
    },
    {
      "cell_type": "code",
      "source": [
        "import time"
      ],
      "metadata": {
        "id": "3-kkZvKE3k71"
      },
      "execution_count": null,
      "outputs": []
    },
    {
      "cell_type": "code",
      "source": [
        "df = new_df.copy()\n",
        "\n",
        "i = 1\n",
        "X_cls_valid = [[df['aboveSAR'][i],df['aboveUpperBB'][i],df['belowLowerBB'][i],\n",
        "                df['RSI'][i],df['oversoldRSI'][i],df['overboughtRSI'][i],\n",
        "                df['aboveEMA5'][i],df['aboveEMA10'][i],df['aboveEMA15'][i],df['aboveEMA20'][i],\n",
        "                df['aboveEMA30'][i],df['aboveEMA40'][i],df['aboveEMA50'][i],\n",
        "                df['aboveEMA60'][i],df['aboveEMA70'][i],df['aboveEMA80'][i],df['aboveEMA90'][i],\n",
        "                df['aboveEMA100'][i]]]    \n",
        "\n",
        "\n",
        "\n",
        "print('X_cls_valid: ', X_cls_valid)\n",
        "\n",
        "\n",
        "s_time = time.time()\n",
        "y_cls_pred_valid = clf.predict(X_cls_valid)\n",
        "e_time=time.time()\n",
        "  "
      ],
      "metadata": {
        "colab": {
          "base_uri": "https://localhost:8080/"
        },
        "id": "w5tcN5JU-t0J",
        "outputId": "ab7ffc20-8d10-44a7-8711-45dc1971f4a0"
      },
      "execution_count": null,
      "outputs": [
        {
          "output_type": "stream",
          "name": "stdout",
          "text": [
            "X_cls_valid:  [[-1, -1, -1, 0.0, -1, -1, -1, -1, -1, -1, -1, -1, -1, -1, -1, -1, -1, -1]]\n"
          ]
        }
      ]
    },
    {
      "cell_type": "code",
      "source": [
        "y_cls_pred_valid"
      ],
      "metadata": {
        "id": "7OTBC-o--tvi",
        "colab": {
          "base_uri": "https://localhost:8080/"
        },
        "outputId": "02320ef6-7ca0-4ee4-b9f7-027e8fe8829f"
      },
      "execution_count": null,
      "outputs": [
        {
          "output_type": "execute_result",
          "data": {
            "text/plain": [
              "array([1])"
            ]
          },
          "metadata": {},
          "execution_count": 25
        }
      ]
    },
    {
      "cell_type": "code",
      "source": [
        "e_time - s_time # single prediction duration should be about 0.2 seconds"
      ],
      "metadata": {
        "id": "tabt2_ZI-tlf",
        "colab": {
          "base_uri": "https://localhost:8080/"
        },
        "outputId": "f5a5e2a3-4fe7-41bc-ae39-0362d2155bfc"
      },
      "execution_count": null,
      "outputs": [
        {
          "output_type": "execute_result",
          "data": {
            "text/plain": [
              "0.2112579345703125"
            ]
          },
          "metadata": {},
          "execution_count": 26
        }
      ]
    },
    {
      "cell_type": "code",
      "source": [
        ""
      ],
      "metadata": {
        "id": "dM5jU_-D-lfS"
      },
      "execution_count": null,
      "outputs": []
    },
    {
      "cell_type": "code",
      "source": [
        ""
      ],
      "metadata": {
        "id": "5Sif9G2_-lcD"
      },
      "execution_count": null,
      "outputs": []
    },
    {
      "cell_type": "code",
      "source": [
        ""
      ],
      "metadata": {
        "id": "VuiPw-zYxLtv"
      },
      "execution_count": null,
      "outputs": []
    },
    {
      "cell_type": "code",
      "source": [
        ""
      ],
      "metadata": {
        "id": "vqP_q4DAxLht"
      },
      "execution_count": null,
      "outputs": []
    },
    {
      "cell_type": "code",
      "source": [
        "#new_df = predict_timeseries(new_df, clf)\n",
        "predict_timeseries(new_df, clf)"
      ],
      "metadata": {
        "colab": {
          "base_uri": "https://localhost:8080/",
          "height": 1000
        },
        "id": "xM4K8v0Ve3P2",
        "outputId": "5e04fffc-918c-4f80-8d88-253b364b1da8"
      },
      "execution_count": null,
      "outputs": [
        {
          "output_type": "stream",
          "name": "stdout",
          "text": [
            "df[Buy][i] 0 1.0\n",
            "df[Buy][i] 1 1.0\n",
            "df[Buy][i] 2 1.0\n",
            "df[Buy][i] 3 1.0\n",
            "df[Buy][i] 4 1.0\n",
            "df[Buy][i] 5 0.0\n",
            "df[Buy][i] 6 0.0\n",
            "df[Buy][i] 7 1.0\n",
            "df[Buy][i] 8 0.0\n",
            "df[Buy][i] 9 0.0\n",
            "df[Buy][i] 10 1.0\n",
            "df[Buy][i] 11 1.0\n",
            "df[Buy][i] 12 1.0\n",
            "df[Buy][i] 13 0.0\n",
            "df[Buy][i] 14 1.0\n",
            "df[Buy][i] 15 1.0\n",
            "df[Buy][i] 16 1.0\n",
            "df[Buy][i] 17 1.0\n",
            "df[Buy][i] 18 1.0\n",
            "df[Buy][i] 19 1.0\n",
            "df[Buy][i] 20 1.0\n",
            "df[Buy][i] 21 1.0\n",
            "df[Buy][i] 22 1.0\n",
            "df[Buy][i] 23 1.0\n",
            "df[Buy][i] 24 1.0\n",
            "df[Buy][i] 25 1.0\n",
            "df[Buy][i] 26 1.0\n",
            "df[Buy][i] 27 1.0\n",
            "df[Buy][i] 28 1.0\n",
            "df[Buy][i] 29 1.0\n",
            "df[Buy][i] 30 1.0\n",
            "df[Buy][i] 31 1.0\n",
            "df[Buy][i] 32 1.0\n",
            "df[Buy][i] 33 0.0\n",
            "df[Buy][i] 34 0.0\n",
            "df[Buy][i] 35 0.0\n",
            "df[Buy][i] 36 0.0\n",
            "df[Buy][i] 37 0.0\n",
            "df[Buy][i] 38 0.0\n",
            "df[Buy][i] 39 0.0\n",
            "df[Buy][i] 40 0.0\n",
            "df[Buy][i] 41 0.0\n",
            "df[Buy][i] 42 1.0\n",
            "df[Buy][i] 43 1.0\n",
            "df[Buy][i] 44 1.0\n",
            "df[Buy][i] 45 0.0\n",
            "df[Buy][i] 46 0.0\n",
            "df[Buy][i] 47 0.0\n",
            "df[Buy][i] 48 1.0\n",
            "df[Buy][i] 49 1.0\n",
            "df[Buy][i] 50 1.0\n",
            "df[Buy][i] 51 1.0\n",
            "df[Buy][i] 52 1.0\n",
            "df[Buy][i] 53 1.0\n",
            "df[Buy][i] 54 1.0\n",
            "df[Buy][i] 55 1.0\n",
            "df[Buy][i] 56 1.0\n",
            "df[Buy][i] 57 1.0\n",
            "df[Buy][i] 58 1.0\n",
            "df[Buy][i] 59 1.0\n",
            "df[Buy][i] 60 1.0\n",
            "df[Buy][i] 61 1.0\n",
            "df[Buy][i] 62 1.0\n",
            "df[Buy][i] 63 1.0\n",
            "df[Buy][i] 64 1.0\n",
            "df[Buy][i] 65 1.0\n",
            "df[Buy][i] 66 1.0\n",
            "df[Buy][i] 67 1.0\n",
            "df[Buy][i] 68 1.0\n",
            "df[Buy][i] 69 1.0\n",
            "df[Buy][i] 70 1.0\n",
            "df[Buy][i] 71 1.0\n",
            "df[Buy][i] 72 1.0\n",
            "df[Buy][i] 73 1.0\n",
            "df[Buy][i] 74 1.0\n",
            "df[Buy][i] 75 1.0\n",
            "df[Buy][i] 76 1.0\n",
            "df[Buy][i] 77 1.0\n",
            "df[Buy][i] 78 1.0\n",
            "df[Buy][i] 79 1.0\n",
            "df[Buy][i] 80 1.0\n",
            "df[Buy][i] 81 1.0\n",
            "df[Buy][i] 82 1.0\n",
            "df[Buy][i] 83 1.0\n",
            "df[Buy][i] 84 1.0\n",
            "df[Buy][i] 85 1.0\n",
            "df[Buy][i] 86 1.0\n",
            "df[Buy][i] 87 1.0\n",
            "df[Buy][i] 88 1.0\n",
            "df[Buy][i] 89 1.0\n",
            "df[Buy][i] 90 1.0\n",
            "df[Buy][i] 91 1.0\n",
            "df[Buy][i] 92 1.0\n",
            "df[Buy][i] 93 1.0\n",
            "df[Buy][i] 94 1.0\n",
            "df[Buy][i] 95 1.0\n",
            "df[Buy][i] 96 1.0\n",
            "df[Buy][i] 97 1.0\n",
            "df[Buy][i] 98 1.0\n",
            "df[Buy][i] 99 1.0\n",
            "df[Buy][i] 100 1.0\n",
            "df[Buy][i] 101 1.0\n",
            "df[Buy][i] 102 0.0\n",
            "df[Buy][i] 103 1.0\n",
            "df[Buy][i] 104 1.0\n",
            "df[Buy][i] 105 1.0\n",
            "df[Buy][i] 106 1.0\n",
            "df[Buy][i] 107 1.0\n",
            "df[Buy][i] 108 1.0\n",
            "df[Buy][i] 109 1.0\n",
            "df[Buy][i] 110 1.0\n",
            "df[Buy][i] 111 1.0\n",
            "df[Buy][i] 112 1.0\n",
            "df[Buy][i] 113 1.0\n",
            "df[Buy][i] 114 1.0\n",
            "df[Buy][i] 115 1.0\n",
            "df[Buy][i] 116 1.0\n",
            "df[Buy][i] 117 1.0\n",
            "df[Buy][i] 118 1.0\n",
            "df[Buy][i] 119 1.0\n",
            "df[Buy][i] 120 1.0\n",
            "df[Buy][i] 121 1.0\n",
            "df[Buy][i] 122 1.0\n",
            "df[Buy][i] 123 1.0\n",
            "df[Buy][i] 124 1.0\n",
            "df[Buy][i] 125 1.0\n",
            "df[Buy][i] 126 1.0\n",
            "df[Buy][i] 127 1.0\n",
            "df[Buy][i] 128 1.0\n",
            "df[Buy][i] 129 1.0\n",
            "df[Buy][i] 130 1.0\n",
            "df[Buy][i] 131 1.0\n",
            "df[Buy][i] 132 1.0\n",
            "df[Buy][i] 133 1.0\n",
            "df[Buy][i] 134 1.0\n",
            "df[Buy][i] 135 1.0\n",
            "df[Buy][i] 136 1.0\n",
            "df[Buy][i] 137 1.0\n",
            "df[Buy][i] 138 1.0\n",
            "df[Buy][i] 139 1.0\n",
            "df[Buy][i] 140 1.0\n",
            "df[Buy][i] 141 1.0\n",
            "df[Buy][i] 142 1.0\n",
            "df[Buy][i] 143 1.0\n",
            "df[Buy][i] 144 1.0\n",
            "df[Buy][i] 145 1.0\n",
            "df[Buy][i] 146 1.0\n",
            "df[Buy][i] 147 1.0\n",
            "df[Buy][i] 148 1.0\n",
            "df[Buy][i] 149 1.0\n",
            "df[Buy][i] 150 1.0\n",
            "df[Buy][i] 151 1.0\n",
            "df[Buy][i] 152 1.0\n",
            "df[Buy][i] 153 1.0\n",
            "df[Buy][i] 154 1.0\n",
            "df[Buy][i] 155 1.0\n",
            "df[Buy][i] 156 1.0\n",
            "df[Buy][i] 157 1.0\n",
            "df[Buy][i] 158 1.0\n",
            "df[Buy][i] 159 1.0\n",
            "df[Buy][i] 160 1.0\n",
            "df[Buy][i] 161 1.0\n",
            "df[Buy][i] 162 1.0\n",
            "df[Buy][i] 163 1.0\n",
            "df[Buy][i] 164 1.0\n",
            "df[Buy][i] 165 1.0\n",
            "df[Buy][i] 166 1.0\n",
            "df[Buy][i] 167 1.0\n",
            "df[Buy][i] 168 1.0\n",
            "df[Buy][i] 169 1.0\n",
            "df[Buy][i] 170 1.0\n",
            "df[Buy][i] 171 1.0\n",
            "df[Buy][i] 172 1.0\n",
            "df[Buy][i] 173 1.0\n",
            "df[Buy][i] 174 1.0\n",
            "df[Buy][i] 175 1.0\n",
            "df[Buy][i] 176 1.0\n",
            "df[Buy][i] 177 1.0\n",
            "df[Buy][i] 178 1.0\n",
            "df[Buy][i] 179 1.0\n",
            "df[Buy][i] 180 1.0\n",
            "df[Buy][i] 181 1.0\n",
            "df[Buy][i] 182 1.0\n",
            "df[Buy][i] 183 1.0\n",
            "df[Buy][i] 184 1.0\n",
            "df[Buy][i] 185 1.0\n",
            "df[Buy][i] 186 1.0\n",
            "df[Buy][i] 187 1.0\n",
            "df[Buy][i] 188 1.0\n",
            "df[Buy][i] 189 0.0\n",
            "df[Buy][i] 190 0.0\n",
            "df[Buy][i] 191 0.0\n",
            "df[Buy][i] 192 0.0\n",
            "df[Buy][i] 193 0.0\n",
            "df[Buy][i] 194 0.0\n",
            "df[Buy][i] 195 0.0\n",
            "df[Buy][i] 196 0.0\n",
            "df[Buy][i] 197 0.0\n",
            "df[Buy][i] 198 0.0\n",
            "df[Buy][i] 199 0.0\n",
            "df[Buy][i] 200 0.0\n",
            "df[Buy][i] 201 0.0\n",
            "df[Buy][i] 202 0.0\n",
            "df[Buy][i] 203 0.0\n",
            "df[Buy][i] 204 0.0\n",
            "df[Buy][i] 205 1.0\n",
            "df[Buy][i] 206 0.0\n",
            "df[Buy][i] 207 0.0\n",
            "df[Buy][i] 208 0.0\n",
            "df[Buy][i] 209 0.0\n",
            "df[Buy][i] 210 0.0\n",
            "df[Buy][i] 211 1.0\n",
            "df[Buy][i] 212 0.0\n",
            "df[Buy][i] 213 0.0\n",
            "df[Buy][i] 214 0.0\n",
            "df[Buy][i] 215 0.0\n",
            "df[Buy][i] 216 1.0\n",
            "df[Buy][i] 217 1.0\n",
            "df[Buy][i] 218 1.0\n",
            "df[Buy][i] 219 1.0\n",
            "df[Buy][i] 220 1.0\n",
            "df[Buy][i] 221 1.0\n",
            "df[Buy][i] 222 1.0\n",
            "df[Buy][i] 223 1.0\n",
            "df[Buy][i] 224 1.0\n",
            "df[Buy][i] 225 1.0\n",
            "df[Buy][i] 226 1.0\n",
            "df[Buy][i] 227 1.0\n",
            "df[Buy][i] 228 1.0\n",
            "df[Buy][i] 229 1.0\n",
            "df[Buy][i] 230 1.0\n",
            "df[Buy][i] 231 1.0\n",
            "df[Buy][i] 232 1.0\n",
            "df[Buy][i] 233 1.0\n",
            "df[Buy][i] 234 1.0\n",
            "df[Buy][i] 235 1.0\n",
            "df[Buy][i] 236 1.0\n",
            "df[Buy][i] 237 1.0\n",
            "df[Buy][i] 238 1.0\n",
            "df[Buy][i] 239 1.0\n",
            "df[Buy][i] 240 1.0\n",
            "df[Buy][i] 241 1.0\n",
            "df[Buy][i] 242 1.0\n",
            "df[Buy][i] 243 1.0\n",
            "df[Buy][i] 244 1.0\n",
            "df[Buy][i] 245 1.0\n",
            "df[Buy][i] 246 1.0\n",
            "df[Buy][i] 247 1.0\n",
            "df[Buy][i] 248 1.0\n",
            "df[Buy][i] 249 1.0\n",
            "df[Buy][i] 250 1.0\n",
            "df[Buy][i] 251 1.0\n",
            "df[Buy][i] 252 1.0\n",
            "df[Buy][i] 253 1.0\n",
            "df[Buy][i] 254 1.0\n",
            "df[Buy][i] 255 1.0\n",
            "df[Buy][i] 256 1.0\n",
            "df[Buy][i] 257 1.0\n",
            "df[Buy][i] 258 1.0\n",
            "df[Buy][i] 259 1.0\n",
            "df[Buy][i] 260 1.0\n",
            "df[Buy][i] 261 1.0\n",
            "df[Buy][i] 262 1.0\n",
            "df[Buy][i] 263 0.0\n",
            "df[Buy][i] 264 0.0\n",
            "df[Buy][i] 265 0.0\n",
            "df[Buy][i] 266 0.0\n",
            "df[Buy][i] 267 0.0\n",
            "df[Buy][i] 268 0.0\n",
            "df[Buy][i] 269 0.0\n",
            "df[Buy][i] 270 0.0\n",
            "df[Buy][i] 271 0.0\n",
            "df[Buy][i] 272 0.0\n",
            "df[Buy][i] 273 0.0\n",
            "df[Buy][i] 274 0.0\n",
            "df[Buy][i] 275 0.0\n",
            "df[Buy][i] 276 0.0\n",
            "df[Buy][i] 277 0.0\n",
            "df[Buy][i] 278 0.0\n",
            "df[Buy][i] 279 0.0\n",
            "df[Buy][i] 280 0.0\n",
            "df[Buy][i] 281 0.0\n",
            "df[Buy][i] 282 0.0\n",
            "df[Buy][i] 283 0.0\n",
            "df[Buy][i] 284 0.0\n",
            "df[Buy][i] 285 0.0\n",
            "df[Buy][i] 286 0.0\n",
            "df[Buy][i] 287 0.0\n",
            "df[Buy][i] 288 0.0\n",
            "df[Buy][i] 289 0.0\n",
            "df[Buy][i] 290 0.0\n",
            "df[Buy][i] 291 0.0\n",
            "df[Buy][i] 292 0.0\n",
            "df[Buy][i] 293 1.0\n",
            "df[Buy][i] 294 1.0\n",
            "df[Buy][i] 295 0.0\n",
            "df[Buy][i] 296 0.0\n",
            "df[Buy][i] 297 0.0\n",
            "df[Buy][i] 298 0.0\n",
            "df[Buy][i] 299 0.0\n",
            "df[Buy][i] 300 0.0\n",
            "df[Buy][i] 301 0.0\n",
            "df[Buy][i] 302 0.0\n",
            "df[Buy][i] 303 0.0\n",
            "df[Buy][i] 304 0.0\n",
            "df[Buy][i] 305 0.0\n",
            "df[Buy][i] 306 0.0\n",
            "df[Buy][i] 307 0.0\n",
            "df[Buy][i] 308 0.0\n",
            "df[Buy][i] 309 0.0\n",
            "df[Buy][i] 310 0.0\n",
            "df[Buy][i] 311 1.0\n",
            "df[Buy][i] 312 1.0\n",
            "df[Buy][i] 313 1.0\n",
            "df[Buy][i] 314 1.0\n",
            "df[Buy][i] 315 1.0\n",
            "df[Buy][i] 316 1.0\n",
            "df[Buy][i] 317 1.0\n",
            "df[Buy][i] 318 1.0\n",
            "df[Buy][i] 319 1.0\n",
            "df[Buy][i] 320 1.0\n",
            "df[Buy][i] 321 1.0\n",
            "df[Buy][i] 322 1.0\n",
            "df[Buy][i] 323 1.0\n",
            "df[Buy][i] 324 1.0\n",
            "df[Buy][i] 325 1.0\n",
            "df[Buy][i] 326 1.0\n",
            "df[Buy][i] 327 1.0\n",
            "df[Buy][i] 328 1.0\n",
            "df[Buy][i] 329 1.0\n",
            "df[Buy][i] 330 1.0\n",
            "df[Buy][i] 331 1.0\n",
            "df[Buy][i] 332 1.0\n",
            "df[Buy][i] 333 0.0\n",
            "df[Buy][i] 334 0.0\n",
            "df[Buy][i] 335 0.0\n",
            "df[Buy][i] 336 1.0\n",
            "df[Buy][i] 337 1.0\n",
            "df[Buy][i] 338 1.0\n",
            "df[Buy][i] 339 1.0\n",
            "df[Buy][i] 340 1.0\n",
            "df[Buy][i] 341 1.0\n",
            "df[Buy][i] 342 1.0\n",
            "df[Buy][i] 343 1.0\n",
            "df[Buy][i] 344 1.0\n",
            "df[Buy][i] 345 1.0\n",
            "df[Buy][i] 346 1.0\n",
            "df[Buy][i] 347 1.0\n",
            "df[Buy][i] 348 1.0\n",
            "df[Buy][i] 349 1.0\n",
            "df[Buy][i] 350 1.0\n",
            "df[Buy][i] 351 1.0\n",
            "df[Buy][i] 352 1.0\n",
            "df[Buy][i] 353 1.0\n",
            "df[Buy][i] 354 1.0\n",
            "df[Buy][i] 355 1.0\n",
            "df[Buy][i] 356 1.0\n",
            "df[Buy][i] 357 1.0\n",
            "df[Buy][i] 358 0.0\n",
            "df[Buy][i] 359 0.0\n",
            "df[Buy][i] 360 0.0\n",
            "df[Buy][i] 361 1.0\n",
            "df[Buy][i] 362 0.0\n",
            "df[Buy][i] 363 0.0\n",
            "df[Buy][i] 364 0.0\n",
            "df[Buy][i] 365 0.0\n",
            "df[Buy][i] 366 0.0\n",
            "df[Buy][i] 367 0.0\n",
            "df[Buy][i] 368 1.0\n",
            "df[Buy][i] 369 1.0\n",
            "df[Buy][i] 370 1.0\n",
            "df[Buy][i] 371 1.0\n",
            "df[Buy][i] 372 1.0\n",
            "df[Buy][i] 373 1.0\n",
            "df[Buy][i] 374 1.0\n",
            "df[Buy][i] 375 1.0\n",
            "df[Buy][i] 376 1.0\n",
            "df[Buy][i] 377 1.0\n",
            "df[Buy][i] 378 1.0\n",
            "df[Buy][i] 379 1.0\n",
            "df[Buy][i] 380 1.0\n",
            "df[Buy][i] 381 1.0\n",
            "df[Buy][i] 382 1.0\n",
            "df[Buy][i] 383 1.0\n",
            "df[Buy][i] 384 1.0\n",
            "df[Buy][i] 385 1.0\n",
            "df[Buy][i] 386 0.0\n",
            "df[Buy][i] 387 1.0\n",
            "df[Buy][i] 388 0.0\n",
            "df[Buy][i] 389 1.0\n",
            "df[Buy][i] 390 1.0\n",
            "df[Buy][i] 391 0.0\n",
            "df[Buy][i] 392 0.0\n",
            "df[Buy][i] 393 0.0\n",
            "df[Buy][i] 394 0.0\n",
            "df[Buy][i] 395 0.0\n",
            "df[Buy][i] 396 0.0\n",
            "df[Buy][i] 397 0.0\n",
            "df[Buy][i] 398 1.0\n",
            "df[Buy][i] 399 1.0\n",
            "df[Buy][i] 400 1.0\n"
          ]
        },
        {
          "output_type": "execute_result",
          "data": {
            "text/plain": [
              "          Date       Open       High        Low      Close  Adj Close    Volume       EMA5      EMA10      EMA15  ...  aboveEMA100  aboveEMA150  aboveEMA200  aboveUpperBB  belowLowerBB  aboveSAR  oversoldRSI  overboughtRSI  target_cls  Buy\n",
              "0   2021-01-04  58.669998  60.160000  57.930000  60.110001  56.219360  15520000   0.000000   0.000000   0.000000  ...           -1           -1           -1            -1            -1        -1           -1             -1           1  1.0\n",
              "1   2021-01-05  60.230000  60.450001  59.619999  60.000000  56.116482  13251100   0.000000   0.000000   0.000000  ...           -1           -1           -1            -1            -1        -1           -1             -1           1  1.0\n",
              "2   2021-01-06  59.700001  62.080002  59.700001  61.950001  57.940266  12222500   0.000000   0.000000   0.000000  ...           -1           -1           -1            -1            -1        -1           -1             -1           1  1.0\n",
              "3   2021-01-07  61.900002  63.240002  61.520000  62.520000  58.473370  10614700   0.000000   0.000000   0.000000  ...           -1           -1           -1            -1            -1         1           -1             -1           1  1.0\n",
              "4   2021-01-08  62.610001  63.410000  62.509998  63.040001  58.959713   8389800  57.541838   0.000000   0.000000  ...           -1           -1           -1            -1            -1         1           -1             -1           1  1.0\n",
              "..         ...        ...        ...        ...        ...        ...       ...        ...        ...        ...  ...          ...          ...          ...           ...           ...       ...          ...            ...         ...  ...\n",
              "396 2022-08-01  59.770000  60.180000  59.270000  59.599998  59.599998   6742400  60.147425  60.615932  60.905779  ...           -1           -1           -1            -1            -1        -1           -1             -1           0  0.0\n",
              "397 2022-08-02  59.740002  60.320000  59.290001  59.540001  59.540001   5981600  59.944950  60.420308  60.735057  ...           -1           -1           -1            -1            -1        -1           -1             -1           0  0.0\n",
              "398 2022-08-03  60.869999  63.650002  60.639999  62.270000  62.270000  10066700  60.719967  60.756616  60.926925  ...            1            1           -1            -1            -1         1           -1             -1           0  1.0\n",
              "399 2022-08-04  62.139999  62.990002  61.830002  61.910000  61.910000   5520500  61.116645  60.966322  61.049809  ...            1           -1           -1            -1            -1         1           -1             -1           0  1.0\n",
              "400 2022-08-05  61.790001  61.840000  60.619999  61.090000  61.090000   6039600  61.107763  60.988809  61.054833  ...           -1           -1           -1            -1            -1         1           -1             -1           0  1.0\n",
              "\n",
              "[401 rows x 47 columns]"
            ],
            "text/html": [
              "\n",
              "  <div id=\"df-af9d87ba-d39e-449d-9bb7-3ee42c1f9f6e\">\n",
              "    <div class=\"colab-df-container\">\n",
              "      <div>\n",
              "<style scoped>\n",
              "    .dataframe tbody tr th:only-of-type {\n",
              "        vertical-align: middle;\n",
              "    }\n",
              "\n",
              "    .dataframe tbody tr th {\n",
              "        vertical-align: top;\n",
              "    }\n",
              "\n",
              "    .dataframe thead th {\n",
              "        text-align: right;\n",
              "    }\n",
              "</style>\n",
              "<table border=\"1\" class=\"dataframe\">\n",
              "  <thead>\n",
              "    <tr style=\"text-align: right;\">\n",
              "      <th></th>\n",
              "      <th>Date</th>\n",
              "      <th>Open</th>\n",
              "      <th>High</th>\n",
              "      <th>Low</th>\n",
              "      <th>Close</th>\n",
              "      <th>Adj Close</th>\n",
              "      <th>Volume</th>\n",
              "      <th>EMA5</th>\n",
              "      <th>EMA10</th>\n",
              "      <th>EMA15</th>\n",
              "      <th>...</th>\n",
              "      <th>aboveEMA100</th>\n",
              "      <th>aboveEMA150</th>\n",
              "      <th>aboveEMA200</th>\n",
              "      <th>aboveUpperBB</th>\n",
              "      <th>belowLowerBB</th>\n",
              "      <th>aboveSAR</th>\n",
              "      <th>oversoldRSI</th>\n",
              "      <th>overboughtRSI</th>\n",
              "      <th>target_cls</th>\n",
              "      <th>Buy</th>\n",
              "    </tr>\n",
              "  </thead>\n",
              "  <tbody>\n",
              "    <tr>\n",
              "      <th>0</th>\n",
              "      <td>2021-01-04</td>\n",
              "      <td>58.669998</td>\n",
              "      <td>60.160000</td>\n",
              "      <td>57.930000</td>\n",
              "      <td>60.110001</td>\n",
              "      <td>56.219360</td>\n",
              "      <td>15520000</td>\n",
              "      <td>0.000000</td>\n",
              "      <td>0.000000</td>\n",
              "      <td>0.000000</td>\n",
              "      <td>...</td>\n",
              "      <td>-1</td>\n",
              "      <td>-1</td>\n",
              "      <td>-1</td>\n",
              "      <td>-1</td>\n",
              "      <td>-1</td>\n",
              "      <td>-1</td>\n",
              "      <td>-1</td>\n",
              "      <td>-1</td>\n",
              "      <td>1</td>\n",
              "      <td>1.0</td>\n",
              "    </tr>\n",
              "    <tr>\n",
              "      <th>1</th>\n",
              "      <td>2021-01-05</td>\n",
              "      <td>60.230000</td>\n",
              "      <td>60.450001</td>\n",
              "      <td>59.619999</td>\n",
              "      <td>60.000000</td>\n",
              "      <td>56.116482</td>\n",
              "      <td>13251100</td>\n",
              "      <td>0.000000</td>\n",
              "      <td>0.000000</td>\n",
              "      <td>0.000000</td>\n",
              "      <td>...</td>\n",
              "      <td>-1</td>\n",
              "      <td>-1</td>\n",
              "      <td>-1</td>\n",
              "      <td>-1</td>\n",
              "      <td>-1</td>\n",
              "      <td>-1</td>\n",
              "      <td>-1</td>\n",
              "      <td>-1</td>\n",
              "      <td>1</td>\n",
              "      <td>1.0</td>\n",
              "    </tr>\n",
              "    <tr>\n",
              "      <th>2</th>\n",
              "      <td>2021-01-06</td>\n",
              "      <td>59.700001</td>\n",
              "      <td>62.080002</td>\n",
              "      <td>59.700001</td>\n",
              "      <td>61.950001</td>\n",
              "      <td>57.940266</td>\n",
              "      <td>12222500</td>\n",
              "      <td>0.000000</td>\n",
              "      <td>0.000000</td>\n",
              "      <td>0.000000</td>\n",
              "      <td>...</td>\n",
              "      <td>-1</td>\n",
              "      <td>-1</td>\n",
              "      <td>-1</td>\n",
              "      <td>-1</td>\n",
              "      <td>-1</td>\n",
              "      <td>-1</td>\n",
              "      <td>-1</td>\n",
              "      <td>-1</td>\n",
              "      <td>1</td>\n",
              "      <td>1.0</td>\n",
              "    </tr>\n",
              "    <tr>\n",
              "      <th>3</th>\n",
              "      <td>2021-01-07</td>\n",
              "      <td>61.900002</td>\n",
              "      <td>63.240002</td>\n",
              "      <td>61.520000</td>\n",
              "      <td>62.520000</td>\n",
              "      <td>58.473370</td>\n",
              "      <td>10614700</td>\n",
              "      <td>0.000000</td>\n",
              "      <td>0.000000</td>\n",
              "      <td>0.000000</td>\n",
              "      <td>...</td>\n",
              "      <td>-1</td>\n",
              "      <td>-1</td>\n",
              "      <td>-1</td>\n",
              "      <td>-1</td>\n",
              "      <td>-1</td>\n",
              "      <td>1</td>\n",
              "      <td>-1</td>\n",
              "      <td>-1</td>\n",
              "      <td>1</td>\n",
              "      <td>1.0</td>\n",
              "    </tr>\n",
              "    <tr>\n",
              "      <th>4</th>\n",
              "      <td>2021-01-08</td>\n",
              "      <td>62.610001</td>\n",
              "      <td>63.410000</td>\n",
              "      <td>62.509998</td>\n",
              "      <td>63.040001</td>\n",
              "      <td>58.959713</td>\n",
              "      <td>8389800</td>\n",
              "      <td>57.541838</td>\n",
              "      <td>0.000000</td>\n",
              "      <td>0.000000</td>\n",
              "      <td>...</td>\n",
              "      <td>-1</td>\n",
              "      <td>-1</td>\n",
              "      <td>-1</td>\n",
              "      <td>-1</td>\n",
              "      <td>-1</td>\n",
              "      <td>1</td>\n",
              "      <td>-1</td>\n",
              "      <td>-1</td>\n",
              "      <td>1</td>\n",
              "      <td>1.0</td>\n",
              "    </tr>\n",
              "    <tr>\n",
              "      <th>...</th>\n",
              "      <td>...</td>\n",
              "      <td>...</td>\n",
              "      <td>...</td>\n",
              "      <td>...</td>\n",
              "      <td>...</td>\n",
              "      <td>...</td>\n",
              "      <td>...</td>\n",
              "      <td>...</td>\n",
              "      <td>...</td>\n",
              "      <td>...</td>\n",
              "      <td>...</td>\n",
              "      <td>...</td>\n",
              "      <td>...</td>\n",
              "      <td>...</td>\n",
              "      <td>...</td>\n",
              "      <td>...</td>\n",
              "      <td>...</td>\n",
              "      <td>...</td>\n",
              "      <td>...</td>\n",
              "      <td>...</td>\n",
              "      <td>...</td>\n",
              "    </tr>\n",
              "    <tr>\n",
              "      <th>396</th>\n",
              "      <td>2022-08-01</td>\n",
              "      <td>59.770000</td>\n",
              "      <td>60.180000</td>\n",
              "      <td>59.270000</td>\n",
              "      <td>59.599998</td>\n",
              "      <td>59.599998</td>\n",
              "      <td>6742400</td>\n",
              "      <td>60.147425</td>\n",
              "      <td>60.615932</td>\n",
              "      <td>60.905779</td>\n",
              "      <td>...</td>\n",
              "      <td>-1</td>\n",
              "      <td>-1</td>\n",
              "      <td>-1</td>\n",
              "      <td>-1</td>\n",
              "      <td>-1</td>\n",
              "      <td>-1</td>\n",
              "      <td>-1</td>\n",
              "      <td>-1</td>\n",
              "      <td>0</td>\n",
              "      <td>0.0</td>\n",
              "    </tr>\n",
              "    <tr>\n",
              "      <th>397</th>\n",
              "      <td>2022-08-02</td>\n",
              "      <td>59.740002</td>\n",
              "      <td>60.320000</td>\n",
              "      <td>59.290001</td>\n",
              "      <td>59.540001</td>\n",
              "      <td>59.540001</td>\n",
              "      <td>5981600</td>\n",
              "      <td>59.944950</td>\n",
              "      <td>60.420308</td>\n",
              "      <td>60.735057</td>\n",
              "      <td>...</td>\n",
              "      <td>-1</td>\n",
              "      <td>-1</td>\n",
              "      <td>-1</td>\n",
              "      <td>-1</td>\n",
              "      <td>-1</td>\n",
              "      <td>-1</td>\n",
              "      <td>-1</td>\n",
              "      <td>-1</td>\n",
              "      <td>0</td>\n",
              "      <td>0.0</td>\n",
              "    </tr>\n",
              "    <tr>\n",
              "      <th>398</th>\n",
              "      <td>2022-08-03</td>\n",
              "      <td>60.869999</td>\n",
              "      <td>63.650002</td>\n",
              "      <td>60.639999</td>\n",
              "      <td>62.270000</td>\n",
              "      <td>62.270000</td>\n",
              "      <td>10066700</td>\n",
              "      <td>60.719967</td>\n",
              "      <td>60.756616</td>\n",
              "      <td>60.926925</td>\n",
              "      <td>...</td>\n",
              "      <td>1</td>\n",
              "      <td>1</td>\n",
              "      <td>-1</td>\n",
              "      <td>-1</td>\n",
              "      <td>-1</td>\n",
              "      <td>1</td>\n",
              "      <td>-1</td>\n",
              "      <td>-1</td>\n",
              "      <td>0</td>\n",
              "      <td>1.0</td>\n",
              "    </tr>\n",
              "    <tr>\n",
              "      <th>399</th>\n",
              "      <td>2022-08-04</td>\n",
              "      <td>62.139999</td>\n",
              "      <td>62.990002</td>\n",
              "      <td>61.830002</td>\n",
              "      <td>61.910000</td>\n",
              "      <td>61.910000</td>\n",
              "      <td>5520500</td>\n",
              "      <td>61.116645</td>\n",
              "      <td>60.966322</td>\n",
              "      <td>61.049809</td>\n",
              "      <td>...</td>\n",
              "      <td>1</td>\n",
              "      <td>-1</td>\n",
              "      <td>-1</td>\n",
              "      <td>-1</td>\n",
              "      <td>-1</td>\n",
              "      <td>1</td>\n",
              "      <td>-1</td>\n",
              "      <td>-1</td>\n",
              "      <td>0</td>\n",
              "      <td>1.0</td>\n",
              "    </tr>\n",
              "    <tr>\n",
              "      <th>400</th>\n",
              "      <td>2022-08-05</td>\n",
              "      <td>61.790001</td>\n",
              "      <td>61.840000</td>\n",
              "      <td>60.619999</td>\n",
              "      <td>61.090000</td>\n",
              "      <td>61.090000</td>\n",
              "      <td>6039600</td>\n",
              "      <td>61.107763</td>\n",
              "      <td>60.988809</td>\n",
              "      <td>61.054833</td>\n",
              "      <td>...</td>\n",
              "      <td>-1</td>\n",
              "      <td>-1</td>\n",
              "      <td>-1</td>\n",
              "      <td>-1</td>\n",
              "      <td>-1</td>\n",
              "      <td>1</td>\n",
              "      <td>-1</td>\n",
              "      <td>-1</td>\n",
              "      <td>0</td>\n",
              "      <td>1.0</td>\n",
              "    </tr>\n",
              "  </tbody>\n",
              "</table>\n",
              "<p>401 rows × 47 columns</p>\n",
              "</div>\n",
              "      <button class=\"colab-df-convert\" onclick=\"convertToInteractive('df-af9d87ba-d39e-449d-9bb7-3ee42c1f9f6e')\"\n",
              "              title=\"Convert this dataframe to an interactive table.\"\n",
              "              style=\"display:none;\">\n",
              "        \n",
              "  <svg xmlns=\"http://www.w3.org/2000/svg\" height=\"24px\"viewBox=\"0 0 24 24\"\n",
              "       width=\"24px\">\n",
              "    <path d=\"M0 0h24v24H0V0z\" fill=\"none\"/>\n",
              "    <path d=\"M18.56 5.44l.94 2.06.94-2.06 2.06-.94-2.06-.94-.94-2.06-.94 2.06-2.06.94zm-11 1L8.5 8.5l.94-2.06 2.06-.94-2.06-.94L8.5 2.5l-.94 2.06-2.06.94zm10 10l.94 2.06.94-2.06 2.06-.94-2.06-.94-.94-2.06-.94 2.06-2.06.94z\"/><path d=\"M17.41 7.96l-1.37-1.37c-.4-.4-.92-.59-1.43-.59-.52 0-1.04.2-1.43.59L10.3 9.45l-7.72 7.72c-.78.78-.78 2.05 0 2.83L4 21.41c.39.39.9.59 1.41.59.51 0 1.02-.2 1.41-.59l7.78-7.78 2.81-2.81c.8-.78.8-2.07 0-2.86zM5.41 20L4 18.59l7.72-7.72 1.47 1.35L5.41 20z\"/>\n",
              "  </svg>\n",
              "      </button>\n",
              "      \n",
              "  <style>\n",
              "    .colab-df-container {\n",
              "      display:flex;\n",
              "      flex-wrap:wrap;\n",
              "      gap: 12px;\n",
              "    }\n",
              "\n",
              "    .colab-df-convert {\n",
              "      background-color: #E8F0FE;\n",
              "      border: none;\n",
              "      border-radius: 50%;\n",
              "      cursor: pointer;\n",
              "      display: none;\n",
              "      fill: #1967D2;\n",
              "      height: 32px;\n",
              "      padding: 0 0 0 0;\n",
              "      width: 32px;\n",
              "    }\n",
              "\n",
              "    .colab-df-convert:hover {\n",
              "      background-color: #E2EBFA;\n",
              "      box-shadow: 0px 1px 2px rgba(60, 64, 67, 0.3), 0px 1px 3px 1px rgba(60, 64, 67, 0.15);\n",
              "      fill: #174EA6;\n",
              "    }\n",
              "\n",
              "    [theme=dark] .colab-df-convert {\n",
              "      background-color: #3B4455;\n",
              "      fill: #D2E3FC;\n",
              "    }\n",
              "\n",
              "    [theme=dark] .colab-df-convert:hover {\n",
              "      background-color: #434B5C;\n",
              "      box-shadow: 0px 1px 3px 1px rgba(0, 0, 0, 0.15);\n",
              "      filter: drop-shadow(0px 1px 2px rgba(0, 0, 0, 0.3));\n",
              "      fill: #FFFFFF;\n",
              "    }\n",
              "  </style>\n",
              "\n",
              "      <script>\n",
              "        const buttonEl =\n",
              "          document.querySelector('#df-af9d87ba-d39e-449d-9bb7-3ee42c1f9f6e button.colab-df-convert');\n",
              "        buttonEl.style.display =\n",
              "          google.colab.kernel.accessAllowed ? 'block' : 'none';\n",
              "\n",
              "        async function convertToInteractive(key) {\n",
              "          const element = document.querySelector('#df-af9d87ba-d39e-449d-9bb7-3ee42c1f9f6e');\n",
              "          const dataTable =\n",
              "            await google.colab.kernel.invokeFunction('convertToInteractive',\n",
              "                                                     [key], {});\n",
              "          if (!dataTable) return;\n",
              "\n",
              "          const docLinkHtml = 'Like what you see? Visit the ' +\n",
              "            '<a target=\"_blank\" href=https://colab.research.google.com/notebooks/data_table.ipynb>data table notebook</a>'\n",
              "            + ' to learn more about interactive tables.';\n",
              "          element.innerHTML = '';\n",
              "          dataTable['output_type'] = 'display_data';\n",
              "          await google.colab.output.renderOutput(dataTable, element);\n",
              "          const docLink = document.createElement('div');\n",
              "          docLink.innerHTML = docLinkHtml;\n",
              "          element.appendChild(docLink);\n",
              "        }\n",
              "      </script>\n",
              "    </div>\n",
              "  </div>\n",
              "  "
            ]
          },
          "metadata": {},
          "execution_count": 27
        }
      ]
    },
    {
      "cell_type": "markdown",
      "source": [
        "Below plot is showing predictions on unseen dataset. When the triangle overlay is on the price data, it means buy. When the triangle is on the zero level, it means, don't buy. This model is pretty much giving only long signals, but can be extrapolated to sell signals as well.\n",
        "\n",
        "So the Buy signal means, that the model thinks that in n days (here 55 days) the price will be above specific Exponencial Moving Average (here was trained to be above 150 EMA in 55 days).\n",
        "\n",
        "We see that the model is giving some false positive signals (of course it is), but not that many actually. It just sometimes expects trend reversal too early, but if we are using this as an investing advisor for long term hold or long term swing trades, the signals provided by the model are very nice."
      ],
      "metadata": {
        "id": "wDJ_RbIJfSK3"
      }
    },
    {
      "cell_type": "code",
      "source": [
        "plot_stock_prediction(new_df, ticker)"
      ],
      "metadata": {
        "id": "ahwEkZ5-e3Jc",
        "colab": {
          "base_uri": "https://localhost:8080/",
          "height": 392
        },
        "outputId": "774769dd-032b-45f5-e2b3-58347a3339a8"
      },
      "execution_count": null,
      "outputs": [
        {
          "output_type": "display_data",
          "data": {
            "text/plain": [
              "<Figure size 1440x504 with 1 Axes>"
            ],
            "image/png": "[encoded data removed]"
          },
          "metadata": {
            "needs_background": "light"
          }
        }
      ]
    },
    {
      "cell_type": "code",
      "source": [
        ""
      ],
      "metadata": {
        "id": "uhB3MjuafXty"
      },
      "execution_count": null,
      "outputs": []
    },
    {
      "cell_type": "code",
      "source": [
        ""
      ],
      "metadata": {
        "id": "5a9e7v3mfXqV"
      },
      "execution_count": null,
      "outputs": []
    },
    {
      "cell_type": "code",
      "source": [
        ""
      ],
      "metadata": {
        "id": "lyOjtm6VfXnH"
      },
      "execution_count": null,
      "outputs": []
    },
    {
      "cell_type": "markdown",
      "source": [
        "### Summary:\n",
        "Wisdom of the trees (and forests):\n",
        "Trend is your friend until the end."
      ],
      "metadata": {
        "id": "nUWKoR1-fck0"
      }
    },
    {
      "cell_type": "markdown",
      "source": [
        "### Sources:\n",
        "https://blog.quantinsti.com/decision-tree/\n",
        "https://blog.quantinsti.com/parabolic-sar/\n",
        "https://mljar.com/blog/save-load-random-forest/"
      ],
      "metadata": {
        "id": "ruF6XaRefg42"
      }
    },
    {
      "cell_type": "code",
      "source": [
        ""
      ],
      "metadata": {
        "id": "Vk9BbkgZfXMU"
      },
      "execution_count": null,
      "outputs": []
    }
  ]
}